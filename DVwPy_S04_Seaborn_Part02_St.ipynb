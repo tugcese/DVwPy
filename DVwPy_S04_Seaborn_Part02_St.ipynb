{
 "cells": [
  {
   "cell_type": "markdown",
   "metadata": {
    "deletable": false,
    "editable": false
   },
   "source": [
    "<a href=\"https://clarusway.com/contact-us/\"><img align=\"center\" src=\"https://i.ibb.co/B43qn24/officially-licensed-logo.png\" alt=\"Open in Clarusway LMS\" width=\"110\" height=\"200\" title=\"This notebook is licensed by Clarusway IT training school. Please contact the authorized persons about the conditions under which you can use or share.\"></a>"
   ]
  },
  {
   "cell_type": "markdown",
   "metadata": {},
   "source": [
    "<hr>\n",
    "\n",
    "<a href=\"https://lms.clarusway.com/course/view.php?id=7435\"><img align=\"right\" src=\"https://i.ibb.co/6Z5pQxD/lmss.png\" alt=\"Open in Clarusway LMS\" width=\"70\" height=\"150\" title=\"Open Clarusway Learning Management Sytem\"></a>\n",
    "\n",
    "<a href=\"https://github.com/clarusway/DS-DE0824-TR-DA-Students/tree/main/1-%20Classes%20%26%20Labs/3-%20DVwPy\"><img align=\"left\" src=\"https://i.ibb.co/n3HWyQX/github-logo.png\" alt=\"Open in Clarusway GitHub\" width=\"110\" height=\"150\" title=\"Open and Execute in Clarusway GitHub Repository\"></a>\n",
    "\n",
    "<br/>\n",
    "<br/>\n",
    "\n",
    "<hr>\n",
    "\n",
    "<p style=\"text-align: center;\"><img src=\"https://i.ibb.co/Rpz9L36/clarusway-logo-black.png\" width=\"500\" height=\"200\" class=\"img-fluid\" alt=\"CLRSWY_LOGO\"></p>\n",
    "\n",
    "<p style=\"text-align: center;\"><img src=\"https://i.ibb.co/XS0bxSH/best-bootcamps.png\" width=\"300\" height=\"200\" class=\"img-fluid\" alt=\"CLRSWY_LOGO\"></p>\n",
    "\n",
    "<p style=\"background-color:#E51A59; font-family:newtimeroman; color:#FDFEFE; font-size:130%; text-align:center; border-radius:10px 10px;\">WAY TO REINVENT YOURSELF</p>\n",
    "\n",
    "<p style=\"text-align: center;\"><img src=\"https://i.ibb.co/99DQ3TY/DS-Courses.png\" class=\"img-fluid\" \n",
    "alt=\"CLRSWY_Courses\"></p>"
   ]
  },
  {
   "cell_type": "markdown",
   "metadata": {},
   "source": [
    "<a id=\"toc\"></a>\n",
    "\n",
    "## <p style=\"background-color:#9d4f8c; font-family:newtimeroman; color:#FFF9ED; font-size:150%; text-align:center; border-radius:10px 10px;\">CONTENT</p>\n",
    "\n",
    "* [IMPORTING LIBRARIES NEEDED IN THIS NOTEBOOK](#0)\n",
    "* [COUNTPLOT](#1)\n",
    "    * [\"hue\" Parameter](#1.1)\n",
    "    * [Extra Information](#1.2)\n",
    "* [BARPLOT](#2)\n",
    "    * [\"ci\" Parameter](#2.1)\n",
    "    * [\"estimator\" Parameter](#2.2)    \n",
    "* [BOXPLOT](#3)\n",
    "    * [\"width\" Parameter](#3.1)\n",
    "    * [Optional Boxplot Examples](#3.2)\n",
    "    * [\"orient\" Parameter](#3.3)\n",
    "    * [Changing x & y in seaborn.boxplot()](#3.4)\n",
    "* [VIOLINPLOT](#4)\n",
    "    * [Optionel Violinplot Example](#4.1)\n",
    "    * [\"split\" Parameter](#4.2)\n",
    "    * [\"inner\" Parameter](#4.3)\n",
    "    * [\"bandwidth\" Parameter](#4.4)\n",
    "    * [Changing x & y in seaborn.violinplot()](#4.5)\n",
    "* [SWARMPLOT](#5) \n",
    "    * [Optional Swarmplot Example](#5.1)\n",
    "    * [\"dodge\" Parameter](#5.2)\n",
    "* [BOXENPLOT (LETTER-VALUE PLOT)](#6)        \n",
    "* [LINEPLOT](#7)\n",
    "* [SEABORN CHEAT SHEET](#8)    \n",
    "* [THE END OF THE SEABORN SESSION 02](#9)    "
   ]
  },
  {
   "cell_type": "markdown",
   "metadata": {},
   "source": [
    "## <p style=\"background-color:#9d4f8c; font-family:newtimeroman; color:#FFF9ED; font-size:150%; text-align:center; border-radius:10px 10px;\">IMPORTING LIBRARIES NEEDED IN THIS NOTEBOOK</p>\n",
    "\n",
    "<a id=\"0\"></a>\n",
    "<a href=\"#toc\" class=\"btn btn-primary btn-sm\" role=\"button\" aria-pressed=\"true\" \n",
    "style=\"color:blue; background-color:#dfa8e4\" data-toggle=\"popover\">Content</a>"
   ]
  },
  {
   "cell_type": "code",
   "execution_count": 1,
   "metadata": {
    "colab": {
     "base_uri": "https://localhost:8080/"
    },
    "id": "qoeLpoIMjT4S",
    "outputId": "db53b72e-fc99-4427-b62f-f5cb87dd3150"
   },
   "outputs": [],
   "source": [
    "import pandas as pd   # DAwPy\n",
    "import numpy as np   # DAwPy\n",
    "\n",
    "import seaborn as sns   # Stats-1 & DAwPy\n",
    "from scipy import stats   # Stats-1 & DAwPy\n",
    "from scipy.stats import kurtosis, skew   # Stats-1 & DAwPy\n",
    "\n",
    "# import matplotlib\n",
    "import matplotlib.pyplot as plt  \n",
    "%matplotlib inline   \n",
    "\n",
    "# import warnings;\n",
    "# warnings.filterwarnings('ignore')"
   ]
  },
  {
   "cell_type": "code",
   "execution_count": 2,
   "metadata": {},
   "outputs": [
    {
     "name": "stdout",
     "output_type": "stream",
     "text": [
      "There been 22 built-in datasets in Seaborn library.\n",
      "\n",
      "['anagrams', 'anscombe', 'attention', 'brain_networks', 'car_crashes', 'diamonds', 'dots', 'dowjones', 'exercise', 'flights', 'fmri', 'geyser', 'glue', 'healthexp', 'iris', 'mpg', 'penguins', 'planets', 'seaice', 'taxis', 'tips', 'titanic']\n"
     ]
    }
   ],
   "source": [
    "# Let us remember the built-in datasets in Seaborn library\n",
    "\n",
    "print(\"There been\", len(sns.get_dataset_names()), \"built-in datasets in Seaborn library.\")\n",
    "print()\n",
    "print(sns.get_dataset_names())"
   ]
  },
  {
   "cell_type": "code",
   "execution_count": 3,
   "metadata": {
    "colab": {
     "base_uri": "https://localhost:8080/",
     "height": 203
    },
    "id": "1FSojkNYjmBj",
    "outputId": "1dfa36d0-0b9b-4945-9fda-b59f3db388dd"
   },
   "outputs": [
    {
     "data": {
      "text/html": [
       "<div>\n",
       "<style scoped>\n",
       "    .dataframe tbody tr th:only-of-type {\n",
       "        vertical-align: middle;\n",
       "    }\n",
       "\n",
       "    .dataframe tbody tr th {\n",
       "        vertical-align: top;\n",
       "    }\n",
       "\n",
       "    .dataframe thead th {\n",
       "        text-align: right;\n",
       "    }\n",
       "</style>\n",
       "<table border=\"1\" class=\"dataframe\">\n",
       "  <thead>\n",
       "    <tr style=\"text-align: right;\">\n",
       "      <th></th>\n",
       "      <th>total_bill</th>\n",
       "      <th>tip</th>\n",
       "      <th>sex</th>\n",
       "      <th>smoker</th>\n",
       "      <th>day</th>\n",
       "      <th>time</th>\n",
       "      <th>size</th>\n",
       "    </tr>\n",
       "  </thead>\n",
       "  <tbody>\n",
       "    <tr>\n",
       "      <th>0</th>\n",
       "      <td>16.99</td>\n",
       "      <td>1.01</td>\n",
       "      <td>Female</td>\n",
       "      <td>No</td>\n",
       "      <td>Sun</td>\n",
       "      <td>Dinner</td>\n",
       "      <td>2</td>\n",
       "    </tr>\n",
       "    <tr>\n",
       "      <th>1</th>\n",
       "      <td>10.34</td>\n",
       "      <td>1.66</td>\n",
       "      <td>Male</td>\n",
       "      <td>No</td>\n",
       "      <td>Sun</td>\n",
       "      <td>Dinner</td>\n",
       "      <td>3</td>\n",
       "    </tr>\n",
       "    <tr>\n",
       "      <th>2</th>\n",
       "      <td>21.01</td>\n",
       "      <td>3.50</td>\n",
       "      <td>Male</td>\n",
       "      <td>No</td>\n",
       "      <td>Sun</td>\n",
       "      <td>Dinner</td>\n",
       "      <td>3</td>\n",
       "    </tr>\n",
       "    <tr>\n",
       "      <th>3</th>\n",
       "      <td>23.68</td>\n",
       "      <td>3.31</td>\n",
       "      <td>Male</td>\n",
       "      <td>No</td>\n",
       "      <td>Sun</td>\n",
       "      <td>Dinner</td>\n",
       "      <td>2</td>\n",
       "    </tr>\n",
       "    <tr>\n",
       "      <th>4</th>\n",
       "      <td>24.59</td>\n",
       "      <td>3.61</td>\n",
       "      <td>Female</td>\n",
       "      <td>No</td>\n",
       "      <td>Sun</td>\n",
       "      <td>Dinner</td>\n",
       "      <td>4</td>\n",
       "    </tr>\n",
       "  </tbody>\n",
       "</table>\n",
       "</div>"
      ],
      "text/plain": [
       "   total_bill   tip     sex smoker  day    time  size\n",
       "0       16.99  1.01  Female     No  Sun  Dinner     2\n",
       "1       10.34  1.66    Male     No  Sun  Dinner     3\n",
       "2       21.01  3.50    Male     No  Sun  Dinner     3\n",
       "3       23.68  3.31    Male     No  Sun  Dinner     2\n",
       "4       24.59  3.61  Female     No  Sun  Dinner     4"
      ]
     },
     "execution_count": 3,
     "metadata": {},
     "output_type": "execute_result"
    }
   ],
   "source": [
    "# Let's load \"tips\" built-in dataset at Seaborn and assign it as \"tips\"\n",
    "\n",
    "tips = sns.load_dataset(\"tips\")\n",
    "tips.head()"
   ]
  },
  {
   "cell_type": "code",
   "execution_count": 4,
   "metadata": {},
   "outputs": [
    {
     "name": "stdout",
     "output_type": "stream",
     "text": [
      "<class 'pandas.core.frame.DataFrame'>\n",
      "RangeIndex: 244 entries, 0 to 243\n",
      "Data columns (total 7 columns):\n",
      " #   Column      Non-Null Count  Dtype   \n",
      "---  ------      --------------  -----   \n",
      " 0   total_bill  244 non-null    float64 \n",
      " 1   tip         244 non-null    float64 \n",
      " 2   sex         244 non-null    category\n",
      " 3   smoker      244 non-null    category\n",
      " 4   day         244 non-null    category\n",
      " 5   time        244 non-null    category\n",
      " 6   size        244 non-null    int64   \n",
      "dtypes: category(4), float64(2), int64(1)\n",
      "memory usage: 7.4 KB\n"
     ]
    }
   ],
   "source": [
    "tips.info()"
   ]
  },
  {
   "cell_type": "code",
   "execution_count": 5,
   "metadata": {
    "colab": {
     "base_uri": "https://localhost:8080/",
     "height": 388
    },
    "id": "k36G7Oz4juov",
    "outputId": "d3fb76b9-9ee6-4bba-9279-9fea84f3e7c7"
   },
   "outputs": [
    {
     "data": {
      "text/html": [
       "<div>\n",
       "<style scoped>\n",
       "    .dataframe tbody tr th:only-of-type {\n",
       "        vertical-align: middle;\n",
       "    }\n",
       "\n",
       "    .dataframe tbody tr th {\n",
       "        vertical-align: top;\n",
       "    }\n",
       "\n",
       "    .dataframe thead th {\n",
       "        text-align: right;\n",
       "    }\n",
       "</style>\n",
       "<table border=\"1\" class=\"dataframe\">\n",
       "  <thead>\n",
       "    <tr style=\"text-align: right;\">\n",
       "      <th></th>\n",
       "      <th>total_bill</th>\n",
       "      <th>tip</th>\n",
       "      <th>sex</th>\n",
       "      <th>smoker</th>\n",
       "      <th>day</th>\n",
       "      <th>time</th>\n",
       "      <th>size</th>\n",
       "    </tr>\n",
       "  </thead>\n",
       "  <tbody>\n",
       "    <tr>\n",
       "      <th>count</th>\n",
       "      <td>244.000000</td>\n",
       "      <td>244.000000</td>\n",
       "      <td>244</td>\n",
       "      <td>244</td>\n",
       "      <td>244</td>\n",
       "      <td>244</td>\n",
       "      <td>244.000000</td>\n",
       "    </tr>\n",
       "    <tr>\n",
       "      <th>unique</th>\n",
       "      <td>NaN</td>\n",
       "      <td>NaN</td>\n",
       "      <td>2</td>\n",
       "      <td>2</td>\n",
       "      <td>4</td>\n",
       "      <td>2</td>\n",
       "      <td>NaN</td>\n",
       "    </tr>\n",
       "    <tr>\n",
       "      <th>top</th>\n",
       "      <td>NaN</td>\n",
       "      <td>NaN</td>\n",
       "      <td>Male</td>\n",
       "      <td>No</td>\n",
       "      <td>Sat</td>\n",
       "      <td>Dinner</td>\n",
       "      <td>NaN</td>\n",
       "    </tr>\n",
       "    <tr>\n",
       "      <th>freq</th>\n",
       "      <td>NaN</td>\n",
       "      <td>NaN</td>\n",
       "      <td>157</td>\n",
       "      <td>151</td>\n",
       "      <td>87</td>\n",
       "      <td>176</td>\n",
       "      <td>NaN</td>\n",
       "    </tr>\n",
       "    <tr>\n",
       "      <th>mean</th>\n",
       "      <td>19.785943</td>\n",
       "      <td>2.998279</td>\n",
       "      <td>NaN</td>\n",
       "      <td>NaN</td>\n",
       "      <td>NaN</td>\n",
       "      <td>NaN</td>\n",
       "      <td>2.569672</td>\n",
       "    </tr>\n",
       "    <tr>\n",
       "      <th>std</th>\n",
       "      <td>8.902412</td>\n",
       "      <td>1.383638</td>\n",
       "      <td>NaN</td>\n",
       "      <td>NaN</td>\n",
       "      <td>NaN</td>\n",
       "      <td>NaN</td>\n",
       "      <td>0.951100</td>\n",
       "    </tr>\n",
       "    <tr>\n",
       "      <th>min</th>\n",
       "      <td>3.070000</td>\n",
       "      <td>1.000000</td>\n",
       "      <td>NaN</td>\n",
       "      <td>NaN</td>\n",
       "      <td>NaN</td>\n",
       "      <td>NaN</td>\n",
       "      <td>1.000000</td>\n",
       "    </tr>\n",
       "    <tr>\n",
       "      <th>25%</th>\n",
       "      <td>13.347500</td>\n",
       "      <td>2.000000</td>\n",
       "      <td>NaN</td>\n",
       "      <td>NaN</td>\n",
       "      <td>NaN</td>\n",
       "      <td>NaN</td>\n",
       "      <td>2.000000</td>\n",
       "    </tr>\n",
       "    <tr>\n",
       "      <th>50%</th>\n",
       "      <td>17.795000</td>\n",
       "      <td>2.900000</td>\n",
       "      <td>NaN</td>\n",
       "      <td>NaN</td>\n",
       "      <td>NaN</td>\n",
       "      <td>NaN</td>\n",
       "      <td>2.000000</td>\n",
       "    </tr>\n",
       "    <tr>\n",
       "      <th>75%</th>\n",
       "      <td>24.127500</td>\n",
       "      <td>3.562500</td>\n",
       "      <td>NaN</td>\n",
       "      <td>NaN</td>\n",
       "      <td>NaN</td>\n",
       "      <td>NaN</td>\n",
       "      <td>3.000000</td>\n",
       "    </tr>\n",
       "    <tr>\n",
       "      <th>max</th>\n",
       "      <td>50.810000</td>\n",
       "      <td>10.000000</td>\n",
       "      <td>NaN</td>\n",
       "      <td>NaN</td>\n",
       "      <td>NaN</td>\n",
       "      <td>NaN</td>\n",
       "      <td>6.000000</td>\n",
       "    </tr>\n",
       "  </tbody>\n",
       "</table>\n",
       "</div>"
      ],
      "text/plain": [
       "        total_bill         tip   sex smoker  day    time        size\n",
       "count   244.000000  244.000000   244    244  244     244  244.000000\n",
       "unique         NaN         NaN     2      2    4       2         NaN\n",
       "top            NaN         NaN  Male     No  Sat  Dinner         NaN\n",
       "freq           NaN         NaN   157    151   87     176         NaN\n",
       "mean     19.785943    2.998279   NaN    NaN  NaN     NaN    2.569672\n",
       "std       8.902412    1.383638   NaN    NaN  NaN     NaN    0.951100\n",
       "min       3.070000    1.000000   NaN    NaN  NaN     NaN    1.000000\n",
       "25%      13.347500    2.000000   NaN    NaN  NaN     NaN    2.000000\n",
       "50%      17.795000    2.900000   NaN    NaN  NaN     NaN    2.000000\n",
       "75%      24.127500    3.562500   NaN    NaN  NaN     NaN    3.000000\n",
       "max      50.810000   10.000000   NaN    NaN  NaN     NaN    6.000000"
      ]
     },
     "execution_count": 5,
     "metadata": {},
     "output_type": "execute_result"
    }
   ],
   "source": [
    "# Let's examine descriptive statistics for all variables\n",
    "\n",
    "tips.describe(include=\"all\")"
   ]
  },
  {
   "cell_type": "code",
   "execution_count": 6,
   "metadata": {},
   "outputs": [
    {
     "data": {
      "text/html": [
       "<div>\n",
       "<style scoped>\n",
       "    .dataframe tbody tr th:only-of-type {\n",
       "        vertical-align: middle;\n",
       "    }\n",
       "\n",
       "    .dataframe tbody tr th {\n",
       "        vertical-align: top;\n",
       "    }\n",
       "\n",
       "    .dataframe thead th {\n",
       "        text-align: right;\n",
       "    }\n",
       "</style>\n",
       "<table border=\"1\" class=\"dataframe\">\n",
       "  <thead>\n",
       "    <tr style=\"text-align: right;\">\n",
       "      <th></th>\n",
       "      <th>sex</th>\n",
       "      <th>smoker</th>\n",
       "      <th>day</th>\n",
       "      <th>time</th>\n",
       "    </tr>\n",
       "  </thead>\n",
       "  <tbody>\n",
       "    <tr>\n",
       "      <th>count</th>\n",
       "      <td>244</td>\n",
       "      <td>244</td>\n",
       "      <td>244</td>\n",
       "      <td>244</td>\n",
       "    </tr>\n",
       "    <tr>\n",
       "      <th>unique</th>\n",
       "      <td>2</td>\n",
       "      <td>2</td>\n",
       "      <td>4</td>\n",
       "      <td>2</td>\n",
       "    </tr>\n",
       "    <tr>\n",
       "      <th>top</th>\n",
       "      <td>Male</td>\n",
       "      <td>No</td>\n",
       "      <td>Sat</td>\n",
       "      <td>Dinner</td>\n",
       "    </tr>\n",
       "    <tr>\n",
       "      <th>freq</th>\n",
       "      <td>157</td>\n",
       "      <td>151</td>\n",
       "      <td>87</td>\n",
       "      <td>176</td>\n",
       "    </tr>\n",
       "  </tbody>\n",
       "</table>\n",
       "</div>"
      ],
      "text/plain": [
       "         sex smoker  day    time\n",
       "count    244    244  244     244\n",
       "unique     2      2    4       2\n",
       "top     Male     No  Sat  Dinner\n",
       "freq     157    151   87     176"
      ]
     },
     "execution_count": 6,
     "metadata": {},
     "output_type": "execute_result"
    }
   ],
   "source": [
    "# Let's focus only on descriptive statistics of categorical features\n",
    "\n",
    "tips.describe(include=['category'])"
   ]
  },
  {
   "cell_type": "markdown",
   "metadata": {},
   "source": [
    "**🧐 [Using The Pandas Category Data Type](https://pbpython.com/pandas_dtypes_cat.html#:~:text=The%20category%20data%20type%20in,more%20efficiently%20store%20the%20data.)**\n",
    "\n",
    "The category data type in pandas is a hybrid data type. It looks and behaves like a string in many instances but internally is represented by an array of integers. This allows the data to be sorted in a custom order and to more efficiently store the data.\n",
    "\n",
    "**Why do we care about using categorical values? There are 3 main reasons:**\n",
    "\n",
    "- We can define a custom sort order which can improve summarizing and reporting the data. For example, “X-Small” < “Small” < “Medium” < “Large” < “X-Large”. Alphabetical sorting would not be able to reproduce that order.\n",
    "- Some of the python visualization libraries can interpret the categorical data type to apply approrpiate statistical models or plot types.\n",
    "- Categorical data uses less memory which can lead to performance improvements.\n",
    "\n",
    "While categorical data is very handy in pandas. It is not necessary for every type of analysis. In fact, there can be some edge cases where defining a column of data as categorical then manipulating the dataframe can lead to some surprising results. Care must be taken to understand the data set and the necessary analysis before converting columns to categorical data types.\n",
    "\n",
    "**🧐 [Using pandas categories properly is tricky, here’s why…](https://towardsdatascience.com/staying-sane-while-adopting-pandas-categorical-datatypes-78dbd19dcd8a)**\n",
    "\n",
    "**Why use categorical datatypes in pandas?**\n",
    "\n",
    "If categorical data can be a pain, then why not just avoid it altogether? Well, using categories can bring some significant benefits:\n",
    "\n",
    "- **Memory usage** — for string columns where there are many repeated values, categories can drastically reduce the amount of memory required to store the data in memory\n",
    "- **Runtime performance** — there are optimizations in place which can improve execution speed for certain operations\n",
    "- **Library integrations** — in some cases libraries have special functionality for categorical columns, for example lightgbm handles categorical columns differently when building models"
   ]
  },
  {
   "cell_type": "markdown",
   "metadata": {},
   "source": [
    "## <p style=\"background-color:#9d4f8c; font-family:newtimeroman; color:#FFF9ED; font-size:150%; text-align:center; border-radius:10px 10px;\">SEABORN PLOT TYPES</p>\n",
    "\n",
    "<a id=\"2\"></a>\n",
    "<a href=\"#toc\" class=\"btn btn-primary btn-sm\" role=\"button\" aria-pressed=\"true\" \n",
    "style=\"color:blue; background-color:#dfa8e4\" data-toggle=\"popover\">Content</a>\n",
    "\n",
    "<img src=https://i.ibb.co/Q9SXCR1/Capture12.png width=\"700\" height=\"200\">  "
   ]
  },
  {
   "cell_type": "markdown",
   "metadata": {
    "id": "QvRA-_Ogj9Z2"
   },
   "source": [
    "## <p style=\"background-color:#9d4f8c; font-family:newtimeroman; color:#FFF9ED; font-size:150%; text-align:CENTER; border-radius:10px 10px;\">COUNTPLOT</p>\n",
    "\n",
    "<a id=\"1\"></a>\n",
    "<a href=\"#toc\" class=\"btn btn-primary btn-sm\" role=\"button\" aria-pressed=\"true\" \n",
    "style=\"color:blue; background-color:#dfa8e4\" data-toggle=\"popover\">Content</a>\n",
    "\n",
    "A simple plot, it merely shows **the total count of rows per category**. The countplot is used to represent the occurrence (counts) of the observation present in the categorical variable. It uses the concept of a bar chart for the visual depiction.\n",
    "\n",
    "🧐 **[WHAT’S THE DIFFERENCE BETWEEN COUNTPLOT AND BARPLOT?](https://www.sharpsightlabs.com/blog/seaborn-countplot/)**\n",
    "\n",
    "If you’re trying to make a bar chart with Seaborn, you’re (OR NOT) probably aware that Seaborn has two functions for creating bar charts: **``countplot``** and **``barplot``**.\n",
    "\n",
    "Here’s the simple difference:\n",
    "\n",
    "-  ``countplot`` plots the count of the number of records by category\n",
    "-  ``barplot`` plots a value or metric for each category (by default, barplot plots the mean of a variable, by category)\n",
    "\n",
    "🧐 **[seaborn.countplot Documentation](https://seaborn.pydata.org/generated/seaborn.countplot.html)**,<br>\n",
    "🧐 **[What is the difference between Countplot and Barplot?](https://www.google.com/url?sa=t&rct=j&q=&esrc=s&source=web&cd=&cad=rja&uact=8&ved=2ahUKEwjtwJ6vgoP6AhWGRvEDHRCZDYYQFnoECAEQAw&url=https%3A%2F%2Fwww.sharpsightlabs.com%2Fblog%2Fseaborn-countplot%2F&usg=AOvVaw0MfdP4Xf3yIr5Xc_EzASIj)**,<br>\n",
    "🧐 **[What is Countplot used for?](https://www.javatpoint.com/countplot-in-python)**,<br>\n",
    "🧐 **[What is Countplot in data science?](https://www.google.com/url?sa=t&rct=j&q=&esrc=s&source=web&cd=&cad=rja&uact=8&ved=2ahUKEwjr4uufgoP6AhV0QvEDHUrpCJ4QFnoECAcQAw&url=https%3A%2F%2Fmachinelearningknowledge.ai%2Fseaborn-countplot-tutorial-for-beginners%2F&usg=AOvVaw1cc1vND2rJlpb2iu79wPaa)**,<br>\n",
    "🧐 **[How do you read a Countplot in Python?](https://www.google.com/url?sa=t&rct=j&q=&esrc=s&source=web&cd=&cad=rja&uact=8&ved=2ahUKEwjr4uufgoP6AhV0QvEDHUrpCJ4QFnoECAMQAw&url=https%3A%2F%2Fwww.geeksforgeeks.org%2Fcountplot-using-seaborn-in-python%2F&usg=AOvVaw3bJJ4JB304x6WWbWZS1V4A)**\n",
    "\n",
    "**What is the countplot? | Seaborn countplot vs barplot on YouTube**"
   ]
  },
  {
   "cell_type": "code",
   "execution_count": 7,
   "metadata": {},
   "outputs": [
    {
     "data": {
      "image/jpeg": "[encoded data removed]",
      "text/html": [
       "\n",
       "        <iframe\n",
       "            width=\"800\"\n",
       "            height=\"500\"\n",
       "            src=\"https://www.youtube.com/embed/8U5h3EJuu8M\"\n",
       "            frameborder=\"0\"\n",
       "            allowfullscreen\n",
       "            \n",
       "        ></iframe>\n",
       "        "
      ],
      "text/plain": [
       "<IPython.lib.display.YouTubeVideo at 0x1d37b88e250>"
      ]
     },
     "execution_count": 7,
     "metadata": {},
     "output_type": "execute_result"
    }
   ],
   "source": [
    "from IPython.display import YouTubeVideo\n",
    "\n",
    "YouTubeVideo('8U5h3EJuu8M', width=800, height=500)"
   ]
  },
  {
   "cell_type": "raw",
   "metadata": {},
   "source": [
    "sns.countplot(\n",
    "              *,\n",
    "              x=None,\n",
    "              y=None,\n",
    "              hue=None,\n",
    "              data=None,\n",
    "              order=None,\n",
    "              hue_order=None,\n",
    "              orient=None,\n",
    "              color=None,\n",
    "              palette=None,\n",
    "              saturation=0.75,\n",
    "              dodge=True,\n",
    "              ax=None,\n",
    "              **kwargs,\n",
    "              )\n",
    "Docstring:\n",
    "Show the counts of observations in each categorical bin using bars.\n",
    "\n",
    "A count plot can be thought of as a histogram across a categorical, instead of quantitative, variable. The basic API and options are identical to those for :func:`barplot`, so you can compare counts across nested variables.\n",
    "\n",
    "Input data can be passed in a variety of formats, including:\n",
    "\n",
    "- Vectors of data represented as lists, numpy arrays, or pandas Series objects passed directly to the ``x``, ``y``, and/or ``hue`` parameters.\n",
    "- A \"long-form\" DataFrame, in which case the ``x``, ``y``, and ``hue`` variables will determine how the data are plotted.\n",
    "- A \"wide-form\" DataFrame, such that each numeric column will be plotted.\n",
    "- An array or list of vectors.\n",
    "\n",
    "In most cases, it is possible to use numpy or Python objects, but pandas objects are preferable because the associated names will be used to annotate the axes. Additionally, you can use Categorical types for the grouping variables to control the order of plot elements.    \n",
    "\n",
    "This function always treats one of the variables as categorical and draws data at ordinal positions (0, 1, ... n) on the relevant axis, even when the data has a numeric or date type.\n",
    "\n",
    "See the :ref:`tutorial <categorical_tutorial>` for more information.    \n",
    "\n",
    "Parameters\n",
    "----------\n",
    "x, y, hue : names of variables in ``data`` or vector data, optional\n",
    "    Inputs for plotting long-form data. See examples for interpretation.        \n",
    "data : DataFrame, array, or list of arrays, optional\n",
    "    Dataset for plotting. If ``x`` and ``y`` are absent, this is interpreted as wide-form. Otherwise it is expected to be \n",
    "    long-form.    \n",
    "order, hue_order : lists of strings, optional\n",
    "    Order to plot the categorical levels in, otherwise the levels are inferred from the data objects.        \n",
    "orient : \"v\" | \"h\", optional\n",
    "    Orientation of the plot (vertical or horizontal). This is usually inferred based on the type of the input variables, but it\n",
    "    can be used to resolve ambiguity when both `x` and `y` are numeric or when plotting wide-form data.    \n",
    "color : matplotlib color, optional\n",
    "    Color for all of the elements, or seed for a gradient palette.    \n",
    "palette : palette name, list, or dict\n",
    "    Colors to use for the different levels of the ``hue`` variable. Should be something that can be interpreted by\n",
    "    :func:`color_palette`, or a dictionary mapping hue levels to matplotlib colors.    \n",
    "saturation : float, optional\n",
    "    Proportion of the original saturation to draw colors at. Large patches often look better with slightly desaturated colors,\n",
    "    but set this to ``1`` if you want the plot colors to perfectly match the input color spec.    \n",
    "dodge : bool, optional\n",
    "    When hue nesting is used, whether elements should be shifted along the categorical axis.    \n",
    "ax : matplotlib Axes, optional\n",
    "    Axes object to draw the plot onto, otherwise uses the current Axes.    \n",
    "kwargs : key, value mappings\n",
    "    Other keyword arguments are passed through to :meth:`matplotlib.axes.Axes.bar`.\n",
    "\n",
    "Returns\n",
    "-------\n",
    "ax : matplotlib Axes\n",
    "    Returns the Axes object with the plot drawn onto it.    \n",
    "\n",
    "See Also\n",
    "--------\n",
    "barplot : Show point estimates and confidence intervals using bars.    \n",
    "catplot : Combine a categorical plot with a :class:`FacetGrid`.  "
   ]
  },
  {
   "cell_type": "markdown",
   "metadata": {},
   "source": [
    "Let's check the counts of unique values. The resulting object will be in descending order so that the first element is the most frequently-occurring:"
   ]
  },
  {
   "cell_type": "code",
   "execution_count": null,
   "metadata": {},
   "outputs": [],
   "source": []
  },
  {
   "cell_type": "code",
   "execution_count": null,
   "metadata": {},
   "outputs": [],
   "source": []
  },
  {
   "cell_type": "code",
   "execution_count": null,
   "metadata": {},
   "outputs": [],
   "source": []
  },
  {
   "cell_type": "markdown",
   "metadata": {},
   "source": [
    "### 🧐 [How to annotate?](https://matplotlib.org/stable/api/_as_gen/matplotlib.axes.Axes.annotate.html)\n",
    "\n",
    "**[matplotlib.pyplot.annotate(text, xy, xytext=None, xycoords='data', textcoords=None, arrowprops=None, annotation_clip=None, **kwargs)](https://matplotlib.org/stable/api/_as_gen/matplotlib.pyplot.annotate.html)**\n",
    "\n",
    "- Annotate the point xy with text text.\n",
    "\n",
    "- In the simplest form, the text is placed at xy."
   ]
  },
  {
   "cell_type": "code",
   "execution_count": null,
   "metadata": {},
   "outputs": [],
   "source": []
  },
  {
   "cell_type": "code",
   "execution_count": null,
   "metadata": {},
   "outputs": [],
   "source": []
  },
  {
   "cell_type": "code",
   "execution_count": null,
   "metadata": {},
   "outputs": [],
   "source": []
  },
  {
   "cell_type": "code",
   "execution_count": null,
   "metadata": {},
   "outputs": [],
   "source": []
  },
  {
   "cell_type": "markdown",
   "metadata": {},
   "source": [
    "**[matplotlib.pyplot.text(x, y, s, fontdict=None, **kwargs)](https://matplotlib.org/stable/api/_as_gen/matplotlib.pyplot.text.html)**\n",
    "\n",
    "- Add text to the Axes.\n",
    "\n",
    "- Add the text s to the Axes at location x, y in data coordinates."
   ]
  },
  {
   "cell_type": "code",
   "execution_count": null,
   "metadata": {},
   "outputs": [],
   "source": []
  },
  {
   "cell_type": "code",
   "execution_count": null,
   "metadata": {},
   "outputs": [],
   "source": []
  },
  {
   "cell_type": "code",
   "execution_count": null,
   "metadata": {},
   "outputs": [],
   "source": []
  },
  {
   "cell_type": "markdown",
   "metadata": {},
   "source": [
    "**[matplotlib.pyplot.bar_label(container, labels=None, *, fmt='%g', label_type='edge', padding=0, **kwargs)](https://matplotlib.org/stable/api/_as_gen/matplotlib.pyplot.bar_label.html)**\n",
    "\n",
    "- Label a bar plot.\n",
    "\n",
    "- Adds labels to bars in the given BarContainer. You may need to adjust the axis limits to fit the labels."
   ]
  },
  {
   "cell_type": "code",
   "execution_count": null,
   "metadata": {},
   "outputs": [],
   "source": []
  },
  {
   "cell_type": "code",
   "execution_count": null,
   "metadata": {},
   "outputs": [],
   "source": []
  },
  {
   "cell_type": "code",
   "execution_count": null,
   "metadata": {},
   "outputs": [],
   "source": []
  },
  {
   "cell_type": "code",
   "execution_count": null,
   "metadata": {
    "scrolled": false
   },
   "outputs": [],
   "source": []
  },
  {
   "cell_type": "markdown",
   "metadata": {},
   "source": [
    "### <p style=\"background-color:#9d4f8c; font-family:newtimeroman; color:#FFF9ED; font-size:150%; text-align:left; border-radius:10px 10px;\">\"hue\" Parameter</p>\n",
    "\n",
    "<a id=\"1.1\"></a>\n",
    "<a href=\"#toc\" class=\"btn btn-primary btn-sm\" role=\"button\" aria-pressed=\"true\" \n",
    "style=\"color:blue; background-color:#dfa8e4\" data-toggle=\"popover\">Content</a>"
   ]
  },
  {
   "cell_type": "markdown",
   "metadata": {},
   "source": [
    "🔥 Be careful using numerical variable with ``\"hue\"`` parameter and 📝 ``REMEMBER the NOTE`` 📝 on that: \"Grouping variable that will produce points with different colors. Can be either categorical or numeric, **although color mapping will behave differently in latter case.**"
   ]
  },
  {
   "cell_type": "code",
   "execution_count": null,
   "metadata": {},
   "outputs": [],
   "source": []
  },
  {
   "cell_type": "code",
   "execution_count": null,
   "metadata": {},
   "outputs": [],
   "source": []
  },
  {
   "cell_type": "code",
   "execution_count": null,
   "metadata": {},
   "outputs": [],
   "source": []
  },
  {
   "cell_type": "markdown",
   "metadata": {},
   "source": [
    "``ax`` : matplotlib Axes, optional<br>\n",
    "- Axes object to draw the plot onto, otherwise uses the current Axes."
   ]
  },
  {
   "cell_type": "code",
   "execution_count": null,
   "metadata": {},
   "outputs": [],
   "source": []
  },
  {
   "cell_type": "markdown",
   "metadata": {
    "id": "QDDPXKTKXrNo"
   },
   "source": [
    "#### <p style=\"background-color:#9d4f8c; font-family:newtimeroman; color:#FFF9ED; font-size:150%; text-align:left; border-radius:10px 10px;\">Extra Information</p>\n",
    "\n",
    "<a id=\"1.2\"></a>\n",
    "<a href=\"#toc\" class=\"btn btn-primary btn-sm\" role=\"button\" aria-pressed=\"true\" \n",
    "style=\"color:blue; background-color:#dfa8e4\" data-toggle=\"popover\">Content</a>"
   ]
  },
  {
   "cell_type": "code",
   "execution_count": null,
   "metadata": {},
   "outputs": [],
   "source": []
  },
  {
   "cell_type": "code",
   "execution_count": null,
   "metadata": {},
   "outputs": [],
   "source": []
  },
  {
   "cell_type": "code",
   "execution_count": null,
   "metadata": {},
   "outputs": [],
   "source": []
  },
  {
   "cell_type": "code",
   "execution_count": null,
   "metadata": {},
   "outputs": [],
   "source": []
  },
  {
   "cell_type": "code",
   "execution_count": null,
   "metadata": {},
   "outputs": [],
   "source": []
  },
  {
   "cell_type": "markdown",
   "metadata": {
    "id": "Y2wC6GuzmCQ3"
   },
   "source": [
    "## <p style=\"background-color:#9d4f8c; font-family:newtimeroman; color:#FFF9ED; font-size:150%; text-align:CENTER; border-radius:10px 10px;\">BARPLOT</p>\n",
    "\n",
    "<a id=\"2\"></a>\n",
    "<a href=\"#toc\" class=\"btn btn-primary btn-sm\" role=\"button\" aria-pressed=\"true\" \n",
    "style=\"color:blue; background-color:#dfa8e4\" data-toggle=\"popover\">Content</a>\n",
    "\n",
    "So far we've seen the y axis default to a count (similar to a .groupby(x_axis).count() call in pandas). We can expand our visualizations by specifying a specific continuous feature for the y-axis. Keep in mind, you should be careful with these plots, as they may imply a relationship continuity along the y axis where there is none.\n",
    "\n",
    "``A barplot (or barchart)`` is one of the most common types of graphic. It shows the **relationship** between a **numeric** and a **categoric variable**. Each entity of the categoric variable is represented as a bar. In general, the size of the bar represents its numeric value. In Seaborn, bar plot shows ``point estimates`` and ``confidence intervals`` as rectangular bars.\n",
    "\n",
    "🧐 **[seaborn.barplot Documentation](https://seaborn.pydata.org/generated/seaborn.barplot.html)**,<br>\n",
    "🧐 **[What is barplot used for?](https://www.data-to-viz.com/graph/barplot.html)**,<br>\n",
    "🧐 **[What is barplot in statistics?](https://www.google.com/url?sa=t&rct=j&q=&esrc=s&source=web&cd=&cad=rja&uact=8&ved=2ahUKEwj88vqdiIP6AhW_SfEDHav9BTcQFnoECBIQAw&url=https%3A%2F%2Fwww150.statcan.gc.ca%2Fn1%2Fedu%2Fpower-pouvoir%2Fch9%2Fbargraph-diagrammeabarres%2F5214818-eng.htm&usg=AOvVaw3Gi8bIWIOT8kXWlcii9ngB)**,<br>\n",
    "🧐 **[What is the difference between barplot and histogram?](https://www.storytellingwithdata.com/blog/2021/1/28/histograms-and-bar-charts#:~:text=Histograms%20visualize%20quantitative%20data%20or,continuous%20(having%20infinite%20values).)**,<br>\n",
    "🧐 **[A Complete Guide to Bar Charts](https://chartio.com/learn/charts/bar-chart-complete-guide/)**<br>\n",
    "🧐 **[How to Show Values on Seaborn Barplot?](https://www.geeksforgeeks.org/how-to-show-values-on-seaborn-barplot/)**\n",
    "\n",
    "**How to make and style a barplot with Seaborn Python on YouTube**"
   ]
  },
  {
   "cell_type": "code",
   "execution_count": 34,
   "metadata": {},
   "outputs": [
    {
     "data": {
      "image/jpeg": "[encoded data removed]",
      "text/html": [
       "\n",
       "        <iframe\n",
       "            width=\"800\"\n",
       "            height=\"500\"\n",
       "            src=\"https://www.youtube.com/embed/3Yh4U5OB5Sk\"\n",
       "            frameborder=\"0\"\n",
       "            allowfullscreen\n",
       "            \n",
       "        ></iframe>\n",
       "        "
      ],
      "text/plain": [
       "<IPython.lib.display.YouTubeVideo at 0x1d37cc208d0>"
      ]
     },
     "execution_count": 34,
     "metadata": {},
     "output_type": "execute_result"
    }
   ],
   "source": [
    "from IPython.display import YouTubeVideo\n",
    "\n",
    "YouTubeVideo('3Yh4U5OB5Sk', width=800, height=500)"
   ]
  },
  {
   "cell_type": "raw",
   "metadata": {},
   "source": [
    "sns.barplot(\n",
    "            *,\n",
    "            x=None,\n",
    "            y=None,\n",
    "            hue=None,\n",
    "            data=None,\n",
    "            order=None,\n",
    "            hue_order=None,\n",
    "            estimator=<function mean at 0x000002B5CEC560D0>,\n",
    "            ci=95,\n",
    "            n_boot=1000,\n",
    "            units=None,\n",
    "            seed=None,\n",
    "            orient=None,\n",
    "            color=None,\n",
    "            palette=None,\n",
    "            saturation=0.75,\n",
    "            errcolor='.26',\n",
    "            errwidth=None,\n",
    "            capsize=None,\n",
    "            dodge=True,\n",
    "            ax=None,\n",
    "            **kwargs,\n",
    "            )\n",
    "Docstring:\n",
    "Show point estimates and confidence intervals as rectangular bars.\n",
    "\n",
    "A bar plot represents an estimate of central tendency for a numeric variable with the height of each rectangle and provides some indication of the uncertainty around that estimate using error bars. Bar plots include 0 in the quantitative axis range, and they are a good choice when 0 is a meaningful value for the quantitative variable, and you want to make comparisons against it.\n",
    "\n",
    "For datasets where 0 is not a meaningful value, a point plot will allow you to focus on differences between levels of one or more categorical variables.\n",
    "\n",
    "It is also important to keep in mind that a bar plot shows only the mean (or other estimator) value, but in many cases it may be more informative to show the distribution of values at each level of the categorical variables. In that case, other approaches such as a box or violin plot may be more appropriate.\n",
    "\n",
    "Input data can be passed in a variety of formats, including:\n",
    "\n",
    "- Vectors of data represented as lists, numpy arrays, or pandas Series\n",
    "  objects passed directly to the ``x``, ``y``, and/or ``hue`` parameters.\n",
    "- A \"long-form\" DataFrame, in which case the ``x``, ``y``, and ``hue``\n",
    "  variables will determine how the data are plotted.\n",
    "- A \"wide-form\" DataFrame, such that each numeric column will be plotted.\n",
    "- An array or list of vectors.\n",
    "\n",
    "In most cases, it is possible to use numpy or Python objects, but pandas objects are preferable because the associated names will be used to annotate the axes. Additionally, you can use Categorical types for the grouping variables to control the order of plot elements.    \n",
    "\n",
    "This function always treats one of the variables as categorical and draws data at ordinal positions (0, 1, ... n) on the relevant axis, even when the data has a numeric or date type.\n",
    "\n",
    "See the :ref:`tutorial <categorical_tutorial>` for more information.    \n",
    "\n",
    "Parameters\n",
    "----------\n",
    "x, y, hue : names of variables in ``data`` or vector data, optional\n",
    "    Inputs for plotting long-form data. See examples for interpretation.        \n",
    "data : DataFrame, array, or list of arrays, optional\n",
    "    Dataset for plotting. If ``x`` and ``y`` are absent, this is interpreted as wide-form. Otherwise it is expected to be \n",
    "    long-form.    \n",
    "order, hue_order : lists of strings, optional\n",
    "    Order to plot the categorical levels in, otherwise the levels are inferred from the data objects.        \n",
    "estimator : callable that maps vector -> scalar, optional\n",
    "    Statistical function to estimate within each categorical bin.\n",
    "ci : float or \"sd\" or None, optional\n",
    "    Size of confidence intervals to draw around estimated values.  If \"sd\", skip bootstrapping and draw the standard deviation \n",
    "    of the observations. If ``None``, no bootstrapping will be performed, and error bars will not be drawn.\n",
    "n_boot : int, optional\n",
    "    Number of bootstrap iterations to use when computing confidence intervals.\n",
    "units : name of variable in ``data`` or vector data, optional\n",
    "    Identifier of sampling units, which will be used to perform a multilevel bootstrap and account for repeated measures design.\n",
    "seed : int, numpy.random.Generator, or numpy.random.RandomState, optional\n",
    "    Seed or random number generator for reproducible bootstrapping.    \n",
    "orient : \"v\" | \"h\", optional\n",
    "    Orientation of the plot (vertical or horizontal). This is usually inferred based on the type of the input variables, but it\n",
    "    can be used to resolve ambiguity when both `x` and `y` are numeric or when\n",
    "    plotting wide-form data.    \n",
    "color : matplotlib color, optional\n",
    "    Color for all of the elements, or seed for a gradient palette.    \n",
    "palette : palette name, list, or dict\n",
    "    Colors to use for the different levels of the ``hue`` variable. Should be something that can be interpreted by \n",
    "    :func:`color_palette`, or a dictionary mapping hue levels to matplotlib colors.    \n",
    "saturation : float, optional\n",
    "    Proportion of the original saturation to draw colors at. Large patches often look better with slightly desaturated colors,\n",
    "    but set this to ``1`` if you want the plot colors to perfectly match the input color spec.    \n",
    "errcolor : matplotlib color\n",
    "    Color for the lines that represent the confidence interval.\n",
    "errwidth : float, optional\n",
    "    Thickness of error bar lines (and caps).         \n",
    "capsize : float, optional\n",
    "    Width of the \"caps\" on error bars.\n",
    "dodge : bool, optional\n",
    "    When hue nesting is used, whether elements should be shifted along the categorical axis.    \n",
    "ax : matplotlib Axes, optional\n",
    "    Axes object to draw the plot onto, otherwise uses the current Axes.    \n",
    "kwargs : key, value mappings\n",
    "    Other keyword arguments are passed through to :meth:`matplotlib.axes.Axes.bar`.\n",
    "\n",
    "Returns\n",
    "-------\n",
    "ax : matplotlib Axes\n",
    "    Returns the Axes object with the plot drawn onto it.    \n",
    "\n",
    "See Also\n",
    "--------\n",
    "countplot : Show the counts of observations in each categorical bin.    \n",
    "pointplot : Show point estimates and confidence intervals using scatterplot\n",
    "            glyphs.    \n",
    "catplot : Combine a categorical plot with a :class:`FacetGrid`.  "
   ]
  },
  {
   "cell_type": "code",
   "execution_count": null,
   "metadata": {},
   "outputs": [],
   "source": []
  },
  {
   "cell_type": "code",
   "execution_count": null,
   "metadata": {},
   "outputs": [],
   "source": []
  },
  {
   "cell_type": "code",
   "execution_count": null,
   "metadata": {},
   "outputs": [],
   "source": []
  },
  {
   "cell_type": "markdown",
   "metadata": {},
   "source": [
    "### <p style=\"background-color:#9d4f8c; font-family:newtimeroman; color:#FFF9ED; font-size:150%; text-align:left; border-radius:10px 10px;\">\"ci\" Parameter</p>\n",
    "\n",
    "<a id=\"2.1\"></a>\n",
    "<a href=\"#toc\" class=\"btn btn-primary btn-sm\" role=\"button\" aria-pressed=\"true\" \n",
    "style=\"color:blue; background-color:#dfa8e4\" data-toggle=\"popover\">Content</a>\n",
    "\n",
    "A confidence interval for a mean is a range of values that is likely to contain a population mean with a certain level of confidence.\n",
    "\n",
    "``ci`` : float or \"sd\" or None, optional<br>\n",
    "- Size of confidence intervals to draw around estimated values.  If\n",
    "- \"sd\", skip bootstrapping and draw the standard deviation of the\n",
    "- observations. If ``None``, no bootstrapping will be performed, and error bars will not be drawn."
   ]
  },
  {
   "cell_type": "code",
   "execution_count": null,
   "metadata": {},
   "outputs": [],
   "source": []
  },
  {
   "cell_type": "code",
   "execution_count": null,
   "metadata": {},
   "outputs": [],
   "source": []
  },
  {
   "cell_type": "markdown",
   "metadata": {},
   "source": [
    "In barplot method there is a ``ci`` argument which is set to ``95% by default``, which gives you the errors bars. if you don't want them in your plot just set ``ci=None`` in barplot method."
   ]
  },
  {
   "cell_type": "code",
   "execution_count": null,
   "metadata": {},
   "outputs": [],
   "source": []
  },
  {
   "cell_type": "code",
   "execution_count": null,
   "metadata": {},
   "outputs": [],
   "source": []
  },
  {
   "cell_type": "markdown",
   "metadata": {},
   "source": [
    "In statistics, the ``standard deviation`` is a measure of the ``amount of variation or dispersion of a set of values``. A low standard deviation indicates that the values tend to be close to the mean (also called the expected value) of the set, while a high standard deviation indicates that the values are spread out over a wider range.\n",
    "\n",
    "``Error bars`` are graphical representations of the variability of data and used on graphs to indicate the error or uncertainty in a reported measurement. Error bars give a general idea of how precise a measurement is, or conversely, how far from the reported value the true (error free) value might be.\n",
    "\n",
    "🧐 **[what does black lines on a seaborn barplot mean?](https://stackoverflow.com/questions/58362473/what-does-black-lines-on-a-seaborn-barplot-mean)**\n",
    "\n",
    "🧐 **[Standard Error of the Mean vs. Standard Deviation: What's the Difference?](https://www.investopedia.com/ask/answers/042415/what-difference-between-standard-error-means-and-standard-deviation.asp)**"
   ]
  },
  {
   "cell_type": "code",
   "execution_count": 32,
   "metadata": {},
   "outputs": [
    {
     "data": {
      "text/html": [
       "<div>\n",
       "<style scoped>\n",
       "    .dataframe tbody tr th:only-of-type {\n",
       "        vertical-align: middle;\n",
       "    }\n",
       "\n",
       "    .dataframe tbody tr th {\n",
       "        vertical-align: top;\n",
       "    }\n",
       "\n",
       "    .dataframe thead th {\n",
       "        text-align: right;\n",
       "    }\n",
       "</style>\n",
       "<table border=\"1\" class=\"dataframe\">\n",
       "  <thead>\n",
       "    <tr style=\"text-align: right;\">\n",
       "      <th></th>\n",
       "      <th>total_bill</th>\n",
       "      <th>tip</th>\n",
       "      <th>size</th>\n",
       "    </tr>\n",
       "  </thead>\n",
       "  <tbody>\n",
       "    <tr>\n",
       "      <th>count</th>\n",
       "      <td>244.000000</td>\n",
       "      <td>244.000000</td>\n",
       "      <td>244.000000</td>\n",
       "    </tr>\n",
       "    <tr>\n",
       "      <th>mean</th>\n",
       "      <td>19.785943</td>\n",
       "      <td>2.998279</td>\n",
       "      <td>2.569672</td>\n",
       "    </tr>\n",
       "    <tr>\n",
       "      <th>std</th>\n",
       "      <td>8.902412</td>\n",
       "      <td>1.383638</td>\n",
       "      <td>0.951100</td>\n",
       "    </tr>\n",
       "    <tr>\n",
       "      <th>min</th>\n",
       "      <td>3.070000</td>\n",
       "      <td>1.000000</td>\n",
       "      <td>1.000000</td>\n",
       "    </tr>\n",
       "    <tr>\n",
       "      <th>25%</th>\n",
       "      <td>13.347500</td>\n",
       "      <td>2.000000</td>\n",
       "      <td>2.000000</td>\n",
       "    </tr>\n",
       "    <tr>\n",
       "      <th>50%</th>\n",
       "      <td>17.795000</td>\n",
       "      <td>2.900000</td>\n",
       "      <td>2.000000</td>\n",
       "    </tr>\n",
       "    <tr>\n",
       "      <th>75%</th>\n",
       "      <td>24.127500</td>\n",
       "      <td>3.562500</td>\n",
       "      <td>3.000000</td>\n",
       "    </tr>\n",
       "    <tr>\n",
       "      <th>max</th>\n",
       "      <td>50.810000</td>\n",
       "      <td>10.000000</td>\n",
       "      <td>6.000000</td>\n",
       "    </tr>\n",
       "  </tbody>\n",
       "</table>\n",
       "</div>"
      ],
      "text/plain": [
       "       total_bill         tip        size\n",
       "count  244.000000  244.000000  244.000000\n",
       "mean    19.785943    2.998279    2.569672\n",
       "std      8.902412    1.383638    0.951100\n",
       "min      3.070000    1.000000    1.000000\n",
       "25%     13.347500    2.000000    2.000000\n",
       "50%     17.795000    2.900000    2.000000\n",
       "75%     24.127500    3.562500    3.000000\n",
       "max     50.810000   10.000000    6.000000"
      ]
     },
     "execution_count": 32,
     "metadata": {},
     "output_type": "execute_result"
    }
   ],
   "source": [
    "tips.describe()"
   ]
  },
  {
   "cell_type": "code",
   "execution_count": 43,
   "metadata": {},
   "outputs": [
    {
     "data": {
      "text/plain": [
       "8.902411954856856"
      ]
     },
     "metadata": {},
     "output_type": "display_data"
    },
    {
     "data": {
      "text/plain": [
       "19.78594262295082"
      ]
     },
     "metadata": {},
     "output_type": "display_data"
    },
    {
     "data": {
      "text/plain": [
       "28.688354577807676"
      ]
     },
     "metadata": {},
     "output_type": "display_data"
    },
    {
     "data": {
      "text/plain": [
       "10.883530668093965"
      ]
     },
     "metadata": {},
     "output_type": "display_data"
    }
   ],
   "source": [
    "total_bill_mean = tips.describe()[\"total_bill\"].loc[\"mean\"]\n",
    "total_bill_sd = tips.describe()[\"total_bill\"].loc[\"std\"]\n",
    "\n",
    "display(total_bill_sd, total_bill_mean)\n",
    "\n",
    "upper_sd = total_bill_mean + total_bill_sd\n",
    "lower_sd = total_bill_mean - total_bill_sd\n",
    "\n",
    "display(upper_sd, lower_sd)"
   ]
  },
  {
   "cell_type": "code",
   "execution_count": 44,
   "metadata": {},
   "outputs": [
    {
     "data": {
      "image/png": "[encoded data removed]",
      "text/plain": [
       "<Figure size 1000x500 with 1 Axes>"
      ]
     },
     "metadata": {},
     "output_type": "display_data"
    }
   ],
   "source": [
    "ax = sns.barplot(y=\"total_bill\", data=tips, errorbar=\"sd\")\n",
    "\n",
    "ax.axhline(28.68835457780768, xmin=0.1, xmax=0.9, color ='red')\n",
    "ax.axhline(10.883530668093968, xmin=0.1, xmax=0.9, color ='red');"
   ]
  },
  {
   "cell_type": "markdown",
   "metadata": {},
   "source": [
    "**What these ``error bars`` actually represent?**\n",
    "\n",
    "By specifying ci='sd', we are indicating at what range we could be 95% sure that a sample of the population data contains the population standard deviation.\n",
    "\n",
    "Therefore, interpreting the CI of the SD is straightforward. If you assume that your data were randomly and independently sampled from a Gaussian distribution, you can be 95% sure that the CI contains the true population SD. \n",
    "\n",
    "🧐 **[Understanding Seaborn Barplot - Error Bars meaning & calculation](Understanding Seaborn Barplot - Error Bars meaning & calculation)**\n",
    "\n",
    "🧐 **[Interpreting Confidence Intervals](https://online.stat.psu.edu/stat200/lesson/4/4.2/4.2.1)**\n",
    "\n",
    "Confidence intervals are often misinterpreted. The logic behind them may be a bit confusing. Remember that when we're constructing a confidence interval we are estimating a population parameter when we only have data from a sample. We don't know if our sample statistic is less than, greater than, or approximately equal to the population parameter. And, we don't know for sure if our confidence interval contains the population parameter or not. \n",
    "\n",
    "The correct interpretation of a 95% confidence interval is that \"we are 95% confident that the population parameter is between X and X.\"\n",
    "\n",
    "**Correlation Between Height and Weight**<br>\n",
    "At the beginning of the Spring 2017 semester a sample (n=280) of World Campus students were surveyed and asked for their height and weight. In the sample, Pearson's r = 0.487. A 95% confidence interval was computed of [0.410, 0.650].\n",
    "\n",
    "The correct interpretation of this confidence interval is that we are 95% confident that the correlation between height and weight in the population of all World Campus students is between 0.410 and 0.650."
   ]
  },
  {
   "cell_type": "markdown",
   "metadata": {},
   "source": [
    "🧐 **[How to compute confidence interval for Pearson’s r? A brief guide](https://shandou.medium.com/how-to-compute-confidence-interval-for-pearsons-r-a-brief-guide-951445b9cb2d)**"
   ]
  },
  {
   "cell_type": "code",
   "execution_count": 45,
   "metadata": {},
   "outputs": [
    {
     "data": {
      "text/plain": [
       "1.959963984540054"
      ]
     },
     "execution_count": 45,
     "metadata": {},
     "output_type": "execute_result"
    }
   ],
   "source": [
    "import scipy.stats\n",
    "import numpy as np\n",
    "\n",
    "alpha = 0.05 / 2 # Two-tail test\n",
    "z_critical = scipy.stats.norm.ppf(1 - alpha)\n",
    "z_critical"
   ]
  },
  {
   "cell_type": "code",
   "execution_count": 46,
   "metadata": {},
   "outputs": [
    {
     "name": "stdout",
     "output_type": "stream",
     "text": [
      "0.4058676718298477\n",
      "0.6583724294595379\n"
     ]
    }
   ],
   "source": [
    "import numpy as np\n",
    "\n",
    "r = 0.487 # Pearson's r from sampled data\n",
    "z_prime = 0.5 * np.log((1 + r) / (1 - r))\n",
    "\n",
    "n = 244 # Sample size\n",
    "se = 1 / np.sqrt(n - 3) # Sample standard error\n",
    "\n",
    "CI_lower = z_prime - z_critical * se\n",
    "CI_upper = z_prime + z_critical * se\n",
    "\n",
    "print(CI_lower)\n",
    "print(CI_upper)"
   ]
  },
  {
   "cell_type": "code",
   "execution_count": 47,
   "metadata": {},
   "outputs": [
    {
     "data": {
      "text/plain": [
       "(19.305442652418936, 20.266442593482704)"
      ]
     },
     "execution_count": 47,
     "metadata": {},
     "output_type": "execute_result"
    }
   ],
   "source": [
    "import scipy.stats as st\n",
    "\n",
    "# create 95% confidence interval\n",
    "\n",
    "st.t.interval(confidence=0.6, \n",
    "              df=len(tips.total_bill)-1,\n",
    "              loc=np.mean(tips.total_bill),\n",
    "              scale=st.sem(tips.total_bill))"
   ]
  },
  {
   "cell_type": "code",
   "execution_count": 48,
   "metadata": {},
   "outputs": [
    {
     "data": {
      "image/png": "[encoded data removed]",
      "text/plain": [
       "<Figure size 1000x500 with 1 Axes>"
      ]
     },
     "metadata": {},
     "output_type": "display_data"
    }
   ],
   "source": [
    "ax = sns.barplot(y=\"total_bill\", data=tips, errorbar=(\"ci\",60))\n",
    "\n",
    "ax.axhline(19.30544265241894, color ='red')\n",
    "ax.axhline(20.266442593482704, color ='red');"
   ]
  },
  {
   "cell_type": "markdown",
   "metadata": {},
   "source": [
    "🤔 ❓ **How to calculate Confiddence Interval for one feature in Pandas?** 🤔 ❓"
   ]
  },
  {
   "cell_type": "code",
   "execution_count": 49,
   "metadata": {},
   "outputs": [],
   "source": [
    "# Calculating Confidence Interval for one feature\n",
    "\n",
    "def ci_one_feature(col):\n",
    "    import scipy.stats as st\n",
    "  \n",
    "    # create 95% confidence interval\n",
    "    ci = st.norm.interval(confidence=0.95,\n",
    "                          loc=np.mean(col),\n",
    "                          scale=st.sem(col))\n",
    "    print(ci)\n",
    "\n",
    "    \n",
    "# import scipy.stats as st\n",
    "  \n",
    "# # create 95% confidence interval\n",
    "# st.norm.interval(confidence=0.95,\n",
    "#                  loc=np.mean(tips.total_bill),\n",
    "#                  scale=st.sem(tips.total_bill))    "
   ]
  },
  {
   "cell_type": "code",
   "execution_count": 50,
   "metadata": {},
   "outputs": [
    {
     "name": "stdout",
     "output_type": "stream",
     "text": [
      "(18.668922839262997, 20.902962406638643)\n"
     ]
    }
   ],
   "source": [
    "ci_one_feature(tips.total_bill)"
   ]
  },
  {
   "cell_type": "code",
   "execution_count": 51,
   "metadata": {},
   "outputs": [
    {
     "data": {
      "text/plain": [
       "(18.668922839262997, 20.902962406638643)"
      ]
     },
     "execution_count": 51,
     "metadata": {},
     "output_type": "execute_result"
    }
   ],
   "source": [
    "import scipy.stats as st\n",
    "st.norm.interval(confidence=0.95,\n",
    "                 loc=np.mean(tips.total_bill),\n",
    "                 scale=st.sem(tips.total_bill))    "
   ]
  },
  {
   "cell_type": "markdown",
   "metadata": {},
   "source": [
    "🤔 ❓ **How to calculate Confiddence Interval for two features in Pandas?** 🤔 ❓"
   ]
  },
  {
   "cell_type": "code",
   "execution_count": 52,
   "metadata": {},
   "outputs": [],
   "source": [
    "# Calculating Confidence Interval for more than one feature using groupby() method\n",
    "\n",
    "def ci_more_features(df, col1, col2):\n",
    "    import math\n",
    "\n",
    "    stats = df.groupby(col1)[col2].agg(['mean', 'count', 'std'])\n",
    "    print(stats)\n",
    "    print('-'*60)\n",
    "\n",
    "    ci95_hi = []\n",
    "    ci95_lo = []\n",
    "\n",
    "    for i in stats.index:\n",
    "        m, c, s = stats.loc[i]\n",
    "        ci95_hi.append(m + 1.96*s/math.sqrt(c))\n",
    "        ci95_lo.append(m - 1.96*s/math.sqrt(c))\n",
    "\n",
    "    stats['ci95_hi'] = ci95_hi\n",
    "    stats['ci95_lo'] = ci95_lo\n",
    "    print(stats)"
   ]
  },
  {
   "cell_type": "code",
   "execution_count": 53,
   "metadata": {},
   "outputs": [
    {
     "name": "stdout",
     "output_type": "stream",
     "text": [
      "             mean  count       std\n",
      "sex                               \n",
      "Male    20.744076    157  9.246469\n",
      "Female  18.056897     87  8.009209\n",
      "------------------------------------------------------------\n",
      "             mean  count       std    ci95_hi    ci95_lo\n",
      "sex                                                     \n",
      "Male    20.744076    157  9.246469  22.190456  19.297697\n",
      "Female  18.056897     87  8.009209  19.739904  16.373889\n"
     ]
    }
   ],
   "source": [
    "ci_more_features(tips, \"sex\", \"total_bill\")"
   ]
  },
  {
   "cell_type": "code",
   "execution_count": 54,
   "metadata": {},
   "outputs": [
    {
     "data": {
      "image/png": "[encoded data removed]",
      "text/plain": [
       "<Figure size 1000x500 with 1 Axes>"
      ]
     },
     "metadata": {},
     "output_type": "display_data"
    }
   ],
   "source": [
    "ax = sns.barplot(x=\"sex\", y=\"total_bill\", data=tips, errorbar=(\"ci\", 95))\n",
    "\n",
    "ax.axhline(22.190456, xmin=0.05, xmax=0.45, color ='red')\n",
    "ax.axhline(19.297697, xmin=0.05, xmax=0.45, color ='red')\n",
    "\n",
    "ax.axhline(19.739904, xmin=0.55, xmax=0.95, color ='blue')\n",
    "ax.axhline(16.373889, xmin=0.55, xmax=0.95, color ='blue');"
   ]
  },
  {
   "cell_type": "code",
   "execution_count": 55,
   "metadata": {},
   "outputs": [
    {
     "data": {
      "image/png": "[encoded data removed]",
      "text/plain": [
       "<Figure size 1000x500 with 2 Axes>"
      ]
     },
     "metadata": {},
     "output_type": "display_data"
    }
   ],
   "source": [
    "# fig, (ax1, ax2) = plt.subplots(2)\n",
    "fig, [ax1, ax2] = plt.subplots(2)\n",
    "\n",
    "sns.barplot(x=\"sex\", y=\"total_bill\", data=tips, errorbar=(\"ci\", 95), ax=ax1).set(title='Total Bill by Gender with Confidence Level 95%')\n",
    "sns.barplot(x=\"sex\", y=\"total_bill\", data=tips, errorbar=(\"ci\", 60), ax=ax2).set(title='Total Bill by Gender with Confidence Level 60%')\n",
    "\n",
    "plt.tight_layout()"
   ]
  },
  {
   "cell_type": "markdown",
   "metadata": {},
   "source": [
    "**You’ve noticed that the larger the confidence level, the wider the confidence interval.**\n",
    "\n",
    "The 95% confidence interval defines a range of values that you can be 95% certain contains the population mean. Then the question is that 🤔 ❓ **which confidence interval value, 95 or 60, is more reliable ?** 🤔 ❓\n",
    "\n",
    "**Answer:** With a 95 percent confidence interval, you have a 5 percent chance of being wrong. With a 60 percent confidence interval, you have a 40 percent chance of being wrong. Therefore, the 95% confidence interval is more accurate than the 60%\n",
    "\n",
    "🧐 **[Confidence Intervals Simply Explained](https://towardsdatascience.com/confidence-intervals-simply-explained-58b0b11e985f)**"
   ]
  },
  {
   "cell_type": "markdown",
   "metadata": {},
   "source": [
    "**Interpreting the CI of the SD is straightforward. If you assume that your data were randomly and independently sampled from a Gaussian distribution, you can be 95% sure that the CI contains the true population SD.**"
   ]
  },
  {
   "cell_type": "markdown",
   "metadata": {
    "id": "TNsXN_i9ir7z"
   },
   "source": [
    "### <p style=\"background-color:#9d4f8c; font-family:newtimeroman; color:#FFF9ED; font-size:150%; text-align:left; border-radius:10px 10px;\">\"estimator\" Parameter</p>\n",
    "\n",
    "<a id=\"2.2\"></a>\n",
    "<a href=\"#toc\" class=\"btn btn-primary btn-sm\" role=\"button\" aria-pressed=\"true\" \n",
    "style=\"color:blue; background-color:#dfa8e4\" data-toggle=\"popover\">Content</a>\n",
    "\n",
    "**[What does estimator do in seaborn?](https://www.codecademy.com/learn/advanced-graphing-in-python/modules/seaborn-dvp/cheatsheet)**\n",
    "\n",
    "The estimator argument of the barplot() method in Seaborn can alter ``how the data is aggregated``. By default, each bin of a barplot displays the mean value of a variable. Using the estimator argument this behaviour would be different. The estimator argument can receive a function such as np.\n",
    "\n",
    "``\"estimator\"`` params (np.mean, np.median, np.sum, np.max, np.min, np.count_nonzero)\n",
    "\n",
    "``estimator:`` string or callable that maps vector -> scalar, optional\n",
    "- Statistical function to estimate within each categorical bin."
   ]
  },
  {
   "cell_type": "code",
   "execution_count": null,
   "metadata": {},
   "outputs": [],
   "source": []
  },
  {
   "cell_type": "code",
   "execution_count": null,
   "metadata": {},
   "outputs": [],
   "source": []
  },
  {
   "cell_type": "markdown",
   "metadata": {
    "id": "yTWau-g_jGvD"
   },
   "source": [
    "### Diferences betwen ``barplot`` and ``countplot``"
   ]
  },
  {
   "cell_type": "code",
   "execution_count": null,
   "metadata": {},
   "outputs": [],
   "source": []
  },
  {
   "cell_type": "code",
   "execution_count": null,
   "metadata": {},
   "outputs": [],
   "source": []
  },
  {
   "cell_type": "code",
   "execution_count": 61,
   "metadata": {
    "scrolled": false
   },
   "outputs": [
    {
     "data": {
      "image/png": "[encoded data removed]",
      "text/plain": [
       "<Figure size 2000x1000 with 4 Axes>"
      ]
     },
     "metadata": {},
     "output_type": "display_data"
    }
   ],
   "source": [
    "rows, cols = 2, 2\n",
    "\n",
    "fig, ax = plt.subplots(rows, cols, figsize=(20, 10))\n",
    "\n",
    "#sns.barplot(data=tips, x=\"day\", y=\"total_bill\", ax=ax[0, 0], palette=\"husl\").set(title='BAR PLOT with estimator=np.mean')\n",
    "#Passing `palette` without assigning `hue` is deprecated and will be removed in v0.14.0. Assign the `x` variable to `hue` and set `legend=False` for the same effect.\n",
    "\n",
    "sns.barplot(data=tips, x=\"day\", y=\"total_bill\", ax=ax[0, 0], hue = \"day\",legend=True, palette=\"cividis_r\").set(title='BAR PLOT with estimator=np.mean')\n",
    "sns.countplot(x=\"day\", data=tips, ax=ax[0, 1],legend=True,  hue = \"day\",palette=\"Set2\").set(title='COUNT PLOT - Total Bill by Weekdays')\n",
    "sns.barplot(data=tips, x=\"day\", y=\"total_bill\", ax=ax[1, 0], estimator=sum, errorbar=None, hue = \"day\", palette=\"Accent\").set(title='BAR PLOT with estimator=np.sum')\n",
    "sns.countplot(x=\"day\", data=tips, hue=\"sex\", legend=False ,ax=ax[1, 1], palette=\"Paired\").set(title='COUNT PLOT - Total Bill by Weekdays')\n",
    "\n",
    "for i in range(rows):\n",
    "    for j in range(cols):\n",
    "        for container in ax[i, j].containers:\n",
    "            ax[i, j].bar_label(container)"
   ]
  },
  {
   "cell_type": "markdown",
   "metadata": {},
   "source": [
    "**``Seaborn Palette options``** are 'Accent', 'Accent_r', 'Blues', 'Blues_r', 'BrBG', 'BrBG_r', 'BuGn', 'BuGn_r', 'BuPu', 'BuPu_r', 'CMRmap', 'CMRmap_r', 'Dark2', 'Dark2_r', 'GnBu', 'GnBu_r', 'Greens', 'Greens_r', 'Greys', 'Greys_r', 'OrRd', 'OrRd_r', 'Oranges', 'Oranges_r', 'PRGn', 'PRGn_r', 'Paired', 'Paired_r', 'Pastel1', 'Pastel1_r', 'Pastel2', 'Pastel2_r', 'PiYG', 'PiYG_r', 'PuBu', 'PuBuGn', 'PuBuGn_r', 'PuBu_r', 'PuOr', 'PuOr_r', 'PuRd', 'PuRd_r', 'Purples', 'Purples_r', 'RdBu', 'RdBu_r', 'RdGy', 'RdGy_r', 'RdPu', 'RdPu_r', 'RdYlBu', 'RdYlBu_r', 'RdYlGn', 'RdYlGn_r', 'Reds', 'Reds_r', 'Set1', 'Set1_r', 'Set2', 'Set2_r', 'Set3', 'Set3_r', 'Spectral', 'Spectral_r', 'Wistia', 'Wistia_r', 'YlGn', 'YlGnBu', 'YlGnBu_r', 'YlGn_r', 'YlOrBr', 'YlOrBr_r', 'YlOrRd', 'YlOrRd_r', 'afmhot', 'afmhot_r', 'autumn', 'autumn_r', 'binary', 'binary_r', 'bone', 'bone_r', 'brg', 'brg_r', 'bwr', 'bwr_r', 'cividis', 'cividis_r', 'cool', 'cool_r', 'coolwarm', 'coolwarm_r', 'copper', 'copper_r', 'crest', 'crest_r', 'cubehelix', 'cubehelix_r', 'flag', 'flag_r', 'flare', 'flare_r', 'gist_earth', 'gist_earth_r', 'gist_gray', 'gist_gray_r', 'gist_heat', 'gist_heat_r', 'gist_ncar', 'gist_ncar_r', 'gist_rainbow', 'gist_rainbow_r', 'gist_stern', 'gist_stern_r', 'gist_yarg', 'gist_yarg_r', 'gnuplot', 'gnuplot2', 'gnuplot2_r', 'gnuplot_r', 'gray', 'gray_r', 'hot', 'hot_r', 'hsv', 'hsv_r', 'icefire', 'icefire_r', 'inferno', 'inferno_r', 'jet', 'jet_r', 'magma', 'magma_r', 'mako', 'mako_r', 'nipy_spectral', 'nipy_spectral_r', 'ocean', 'ocean_r', 'pink', 'pink_r', 'plasma', 'plasma_r', 'prism', 'prism_r', 'rainbow', 'rainbow_r', 'rocket', 'rocket_r', 'seismic', 'seismic_r', 'spring', 'spring_r', 'summer', 'summer_r', 'tab10', 'tab10_r', 'tab20', 'tab20_r', 'tab20b', 'tab20b_r', 'tab20c', 'tab20c_r', 'terrain', 'terrain_r', 'turbo', 'turbo_r', 'twilight', 'twilight_r', 'twilight_shifted', 'twilight_shifted_r', 'viridis', 'viridis_r', 'vlag', 'vlag_r', 'winter', 'winter_r'\n",
    "\n",
    "**🧐 [Choosing color palettes in Seaborn](https://seaborn.pydata.org/tutorial/color_palettes.html)**\n",
    "\n",
    "**🧐 [Seaborn Palette Options](https://gist.github.com/topspinj/6eefa8bf54850d90eccf1d3715e019b2)**\n",
    "\n",
    "**🧐 [Seaborn – Color Palette](https://www.geeksforgeeks.org/seaborn-color-palette/)**\n",
    "\n",
    "<img src=https://i.ibb.co/SJPDp2c/seaborn-colors.png width=\"700\" height=\"200\">  "
   ]
  },
  {
   "cell_type": "markdown",
   "metadata": {
    "id": "eNT75n7fqBIO"
   },
   "source": [
    "## <p style=\"background-color:#9d4f8c; font-family:newtimeroman; color:#FFF9ED; font-size:150%; text-align:CENTER; border-radius:10px 10px;\">BOXPLOT</p>\n",
    "\n",
    "<a id=\"3\"></a>\n",
    "<a href=\"#toc\" class=\"btn btn-primary btn-sm\" role=\"button\" aria-pressed=\"true\" \n",
    "style=\"color:blue; background-color:#dfa8e4\" data-toggle=\"popover\">Content</a>\n",
    "\n",
    "🧐 **[Constructing a box plot](https://www.khanacademy.org/math/cc-sixth-grade-math/cc-6th-data-statistics/cc-6th-box-whisker-plots/v/constructing-a-box-and-whisker-plot)**,<br>\n",
    "🧐 **[Understanding the Data Using Histogram and Boxplot With Example](https://towardsdatascience.com/understanding-the-data-using-histogram-and-boxplot-with-example-425a52b5b8a6)**\n",
    "\n",
    "``Box plots`` are among the most used types of graphs in the business, statistics and data analysis. It is especially useful when you want to see if a distribution is skewed and whether there are potential unusual data values (outliers) in a given dataset. Therefore, a ``boxplot``, also called a box and whisker plot, is a way to show the spread and centers of a data set. As described in the following video, a ``boxplot`` display distribution through the use of quartiles and an IQR for outliers.\n",
    "\n",
    "🧐 **[seaborn.boxplot Documentation](https://seaborn.pydata.org/generated/seaborn.boxplot.html)**,<br>\n",
    "🧐 **[How do you compare box plots?](https://www.open.edu/openlearn/mod/oucontent/view.php?printable=1&id=4089)**,<br>\n",
    "🧐 **[Box Plots and How to Read Them](https://www.enago.com/academy/report-research-data-using-box-plots-and-bar-charts/)**,<br>\n",
    "🧐 **[Where is box plot used in real life?](https://www.intellspot.com/box-and-whisker-plot-examples/)**,<br>\n",
    "🧐 **[What is the difference between a box plot and a histogram?](https://www.generationgenius.com/histograms-box-plots/)**<br>\n",
    "\n",
    "**Box plot explanation, box plot demo, and how to make a box plot in Python seaborn on YouTube on YouTube**"
   ]
  },
  {
   "cell_type": "code",
   "execution_count": 62,
   "metadata": {},
   "outputs": [
    {
     "data": {
      "image/jpeg": "[encoded data removed]",
      "text/html": [
       "\n",
       "        <iframe\n",
       "            width=\"800\"\n",
       "            height=\"500\"\n",
       "            src=\"https://www.youtube.com/embed/Vo-bfTqEFQk\"\n",
       "            frameborder=\"0\"\n",
       "            allowfullscreen\n",
       "            \n",
       "        ></iframe>\n",
       "        "
      ],
      "text/plain": [
       "<IPython.lib.display.YouTubeVideo at 0x1d37f90ff10>"
      ]
     },
     "execution_count": 62,
     "metadata": {},
     "output_type": "execute_result"
    }
   ],
   "source": [
    "from IPython.display import YouTubeVideo\n",
    "\n",
    "YouTubeVideo('Vo-bfTqEFQk', width=800, height=500)"
   ]
  },
  {
   "cell_type": "raw",
   "metadata": {},
   "source": [
    "sns.boxplot(\n",
    "            *,\n",
    "            x=None,\n",
    "            y=None,\n",
    "            hue=None,\n",
    "            data=None,\n",
    "            order=None,\n",
    "            hue_order=None,\n",
    "            orient=None,\n",
    "            color=None,\n",
    "            palette=None,\n",
    "            saturation=0.75,\n",
    "            width=0.8,\n",
    "            dodge=True,\n",
    "            fliersize=5,\n",
    "            linewidth=None,\n",
    "            whis=1.5,\n",
    "            ax=None,\n",
    "            **kwargs,\n",
    "            )\n",
    "Docstring:\n",
    "Draw a box plot to show distributions with respect to categories.\n",
    "\n",
    "A box plot (or box-and-whisker plot) shows the distribution of quantitative data in a way that facilitates comparisons between variables or across levels of a categorical variable. The box shows the quartiles of the dataset while the whiskers extend to show the rest of the distribution, except for points that are determined to be \"outliers\" using a method that is a function of the inter-quartile range.\n",
    "\n",
    "Input data can be passed in a variety of formats, including:\n",
    "\n",
    "- Vectors of data represented as lists, numpy arrays, or pandas Series  objects passed directly to the ``x``, ``y``, and/or\n",
    "    ``hue`` parameters.\n",
    "- A \"long-form\" DataFrame, in which case the ``x``, ``y``, and ``hue`` variables will determine how the data are plotted.\n",
    "- A \"wide-form\" DataFrame, such that each numeric column will be plotted.\n",
    "- An array or list of vectors.\n",
    "\n",
    "In most cases, it is possible to use numpy or Python objects, but pandas objects are preferable because the associated names will be used to annotate the axes. Additionally, you can use Categorical types for the grouping variables to control the order of plot elements.    \n",
    "\n",
    "This function always treats one of the variables as categorical and draws data at ordinal positions (0, 1, ... n) on the relevant axis, even when the data has a numeric or date type.\n",
    "\n",
    "See the :ref:`tutorial <categorical_tutorial>` for more information.    \n",
    "\n",
    "Parameters\n",
    "----------\n",
    "x, y, hue : names of variables in ``data`` or vector data, optional\n",
    "    Inputs for plotting long-form data. See examples for interpretation.        \n",
    "data : DataFrame, array, or list of arrays, optional\n",
    "    Dataset for plotting. If ``x`` and ``y`` are absent, this is interpreted as wide-form. Otherwise it is expected to be \n",
    "    long-form.    \n",
    "order, hue_order : lists of strings, optional\n",
    "    Order to plot the categorical levels in, otherwise the levels are inferred from the data objects.        \n",
    "orient : \"v\" | \"h\", optional\n",
    "    Orientation of the plot (vertical or horizontal). This is usually inferred based on the type of the input variables, but it\n",
    "    can be used to resolve ambiguity when both `x` and `y` are numeric or when plotting wide-form data.    \n",
    "color : matplotlib color, optional\n",
    "    Color for all of the elements, or seed for a gradient palette.    \n",
    "palette : palette name, list, or dict\n",
    "    Colors to use for the different levels of the ``hue`` variable. Should be something that can be interpreted by\n",
    "    :func:`color_palette`, or a dictionary mapping hue levels to matplotlib colors.    \n",
    "saturation : float, optional\n",
    "    Proportion of the original saturation to draw colors at. Large patches often look better with slightly desaturated colors,\n",
    "    but set this to ``1`` if you want the plot colors to perfectly match the input color spec.    \n",
    "width : float, optional\n",
    "    Width of a full element when not using hue nesting, or width of all the elements for one level of the major grouping \n",
    "    variable.    \n",
    "dodge : bool, optional\n",
    "    When hue nesting is used, whether elements should be shifted along the categorical axis.    \n",
    "fliersize : float, optional\n",
    "    Size of the markers used to indicate outlier observations.\n",
    "linewidth : float, optional\n",
    "    Width of the gray lines that frame the plot elements.    \n",
    "whis : float, optional\n",
    "    Proportion of the IQR past the low and high quartiles to extend the plot whiskers. Points outside this range will be\n",
    "    identified as\n",
    "    outliers.\n",
    "ax : matplotlib Axes, optional\n",
    "    Axes object to draw the plot onto, otherwise uses the current Axes.    \n",
    "kwargs : key, value mappings\n",
    "    Other keyword arguments are passed through to :meth:`matplotlib.axes.Axes.boxplot`.\n",
    "\n",
    "Returns\n",
    "-------\n",
    "ax : matplotlib Axes\n",
    "    Returns the Axes object with the plot drawn onto it.    \n",
    "\n",
    "See Also\n",
    "--------\n",
    "violinplot : A combination of boxplot and kernel density estimation.    \n",
    "stripplot : A scatterplot where one variable is categorical. Can be used in conjunction with other plots to show each \n",
    "            observation.    \n",
    "swarmplot : A categorical scatterplot where the points do not overlap. Can be used with other plots to show each observation.    \n",
    "catplot : Combine a categorical plot with a :class:`FacetGrid`.    "
   ]
  },
  {
   "cell_type": "code",
   "execution_count": null,
   "metadata": {},
   "outputs": [],
   "source": []
  },
  {
   "cell_type": "code",
   "execution_count": null,
   "metadata": {},
   "outputs": [],
   "source": []
  },
  {
   "cell_type": "code",
   "execution_count": null,
   "metadata": {},
   "outputs": [],
   "source": []
  },
  {
   "cell_type": "code",
   "execution_count": null,
   "metadata": {},
   "outputs": [],
   "source": []
  },
  {
   "cell_type": "markdown",
   "metadata": {},
   "source": [
    "### <p style=\"background-color:#9d4f8c; font-family:newtimeroman; color:#FFF9ED; font-size:150%; text-align:LEFT; border-radius:10px 10px;\">\"width\" Parameter</p>\n",
    "\n",
    "<a id=\"3.1\"></a>\n",
    "<a href=\"#toc\" class=\"btn btn-primary btn-sm\" role=\"button\" aria-pressed=\"true\" \n",
    "style=\"color:blue; background-color:#dfa8e4\" data-toggle=\"popover\">Content</a>"
   ]
  },
  {
   "cell_type": "code",
   "execution_count": null,
   "metadata": {},
   "outputs": [],
   "source": []
  },
  {
   "cell_type": "markdown",
   "metadata": {
    "id": "Bfb-93A2nb9w"
   },
   "source": [
    "### <p style=\"background-color:#9d4f8c; font-family:newtimeroman; color:#FFF9ED; font-size:150%; text-align:left; border-radius:10px 10px;\">Optional Boxplot Examples</p>\n",
    "\n",
    "<a id=\"3.2\"></a>\n",
    "<a href=\"#toc\" class=\"btn btn-primary btn-sm\" role=\"button\" aria-pressed=\"true\" \n",
    "style=\"color:blue; background-color:#dfa8e4\" data-toggle=\"popover\">Content</a>"
   ]
  },
  {
   "cell_type": "code",
   "execution_count": null,
   "metadata": {},
   "outputs": [],
   "source": []
  },
  {
   "cell_type": "code",
   "execution_count": null,
   "metadata": {},
   "outputs": [],
   "source": []
  },
  {
   "cell_type": "markdown",
   "metadata": {},
   "source": [
    "### What does it mean when the mean and median are close?\n",
    "\n",
    "**``Mean``** is the average of the values in the data set. **``Median``** is the middlemost value of the data set when values are ordered from smallest to largest.\n",
    "\n",
    "The mean and the median are close together, then the middle value in the data set, when arranged in ascending order, resembles the balancing point in the data and that occurs at the average.\n",
    "\n",
    "Then we say that the data set has a ``symmetrical distribution``.\n",
    "\n",
    "**Thus, when data has a symmetrical distribution, we observe that the values of mean and median are approximately close.**"
   ]
  },
  {
   "cell_type": "code",
   "execution_count": 73,
   "metadata": {},
   "outputs": [],
   "source": [
    "def show_density(col):\n",
    "    from matplotlib import pyplot as plt\n",
    "\n",
    "    fig = plt.figure(figsize=(15, 5))\n",
    "\n",
    "    # Plot density\n",
    "    col.plot.density()\n",
    "\n",
    "    # Add titles and labels\n",
    "    plt.title('Data Density', fontsize=15)\n",
    "\n",
    "    # Show the mean, median, and mode\n",
    "    plt.axvline(x=col.mean(), color = 'cyan', linestyle='solid', linewidth = 2, label = 'Mean')\n",
    "    plt.axvline(x=col.median(), color = 'red', linestyle='dashed', linewidth = 2, label = 'Median')\n",
    "    plt.axvline(x=col.mode()[0], color = 'yellow', linestyle='dashed', linewidth = 2, label = 'Mode')\n",
    "    plt.legend()\n",
    "\n",
    "    # Show the figure\n",
    "    plt.show()"
   ]
  },
  {
   "cell_type": "code",
   "execution_count": 74,
   "metadata": {
    "scrolled": false
   },
   "outputs": [
    {
     "data": {
      "image/png": "[encoded data removed]",
      "text/plain": [
       "<Figure size 1500x500 with 1 Axes>"
      ]
     },
     "metadata": {},
     "output_type": "display_data"
    }
   ],
   "source": [
    "show_density(df[\"math score\"])"
   ]
  },
  {
   "cell_type": "code",
   "execution_count": null,
   "metadata": {},
   "outputs": [],
   "source": []
  },
  {
   "cell_type": "code",
   "execution_count": null,
   "metadata": {},
   "outputs": [],
   "source": []
  },
  {
   "cell_type": "code",
   "execution_count": null,
   "metadata": {},
   "outputs": [],
   "source": []
  },
  {
   "cell_type": "markdown",
   "metadata": {},
   "source": [
    "``orient`` : \"v\" | \"h\", optional\n",
    "- Orientation of the plot (vertical or horizontal). This is usually inferred based on the type of the input variables, but it\n",
    "- can be used to resolve ambiguity when both `x` and `y` are ``numeric`` or when plotting ``wide-form data``. "
   ]
  },
  {
   "cell_type": "code",
   "execution_count": null,
   "metadata": {},
   "outputs": [],
   "source": []
  },
  {
   "cell_type": "code",
   "execution_count": null,
   "metadata": {},
   "outputs": [],
   "source": []
  },
  {
   "cell_type": "markdown",
   "metadata": {
    "id": "FkRTeAQxqW7O"
   },
   "source": [
    "### <p style=\"background-color:#9d4f8c; font-family:newtimeroman; color:#FFF9ED; font-size:150%; text-align:left; border-radius:10px 10px;\">\"orient\" Parameter</p>\n",
    "\n",
    "<a id=\"3.3\"></a>\n",
    "<a href=\"#toc\" class=\"btn btn-primary btn-sm\" role=\"button\" aria-pressed=\"true\" \n",
    "style=\"color:blue; background-color:#dfa8e4\" data-toggle=\"popover\">Content</a>\n",
    "\n",
    "**orient “v” | “h”, optional**\n",
    "\n",
    "Orientation of the plot (vertical or horizontal). This is usually inferred based on the type of the input variables, but it can be used to resolve ambiguity when both ``x`` and ``y`` are ``numeric`` or when plotting ``wide-form data``."
   ]
  },
  {
   "cell_type": "code",
   "execution_count": null,
   "metadata": {},
   "outputs": [],
   "source": []
  },
  {
   "cell_type": "code",
   "execution_count": null,
   "metadata": {},
   "outputs": [],
   "source": []
  },
  {
   "cell_type": "markdown",
   "metadata": {
    "id": "2-wQ5m2Cqttl"
   },
   "source": [
    "## <p style=\"background-color:#9d4f8c; font-family:newtimeroman; color:#FFF9ED; font-size:150%; text-align:center; border-radius:10px 10px;\">VIOLINPLOT</p>\n",
    "\n",
    "<a id=\"4\"></a>\n",
    "<a href=\"#toc\" class=\"btn btn-primary btn-sm\" role=\"button\" aria-pressed=\"true\" \n",
    "style=\"color:blue; background-color:#dfa8e4\" data-toggle=\"popover\">Content</a>\n",
    "\n",
    "A ``violin plot`` plays a similar role as a box and whisker plot. It shows the distribution of quantitative data across several levels of one (or more) categorical variables such that those distributions can be compared. Unlike a box plot, in which all of the plot components correspond to actual datapoints, the violin plot features a kernel density estimation of the underlying distribution.\n",
    "\n",
    "In this sense, it can be concluded that a ``violin plot`` is a hybrid of a box plot and a kernel density plot, which shows peaks in the data. It is used to visualize the distribution of numerical data. Unlike a box plot that can only show summary statistics, violin plots depict summary statistics and the density of each variable.\n",
    "\n",
    "🧐 **[seaborn.violinplot Documentation](https://seaborn.pydata.org/generated/seaborn.violinplot.html)**,<br>\n",
    "🧐 **[Violin Plots: Visualizing Distribution and Probability Density](https://mode.com/blog/violin-plot-examples/#:~:text=What%20is%20a%20violin%20plot%3F,the%20density%20of%20each%20variable.)**,<br>\n",
    "🧐 **[A Complete Guide to Violin Plots](https://chartio.com/learn/charts/violin-plot-complete-guide/)**,<br>\n",
    "🧐 **[Violin plots explained](https://towardsdatascience.com/violin-plots-explained-fb1d115e023d)**,<br>\n",
    "🧐 **[How to Interpret Violin Charts](https://www.labxchange.org/library/items/lb:LabXchange:46f64d7a:html:1)**<br>\n",
    "\n",
    "**What is a violin plot and how to make a Seaborn violinplot in Python on YouTube**"
   ]
  },
  {
   "cell_type": "code",
   "execution_count": 83,
   "metadata": {},
   "outputs": [
    {
     "data": {
      "image/jpeg": "[encoded data removed]",
      "text/html": [
       "\n",
       "        <iframe\n",
       "            width=\"800\"\n",
       "            height=\"500\"\n",
       "            src=\"https://www.youtube.com/embed/PNNLefP974M\"\n",
       "            frameborder=\"0\"\n",
       "            allowfullscreen\n",
       "            \n",
       "        ></iframe>\n",
       "        "
      ],
      "text/plain": [
       "<IPython.lib.display.YouTubeVideo at 0x1d37e684590>"
      ]
     },
     "execution_count": 83,
     "metadata": {},
     "output_type": "execute_result"
    }
   ],
   "source": [
    "from IPython.display import YouTubeVideo\n",
    "\n",
    "YouTubeVideo('PNNLefP974M', width=800, height=500)"
   ]
  },
  {
   "cell_type": "raw",
   "metadata": {},
   "source": [
    "sns.violinplot(\n",
    "                *,\n",
    "                x=None,\n",
    "                y=None,\n",
    "                hue=None,\n",
    "                data=None,\n",
    "                order=None,\n",
    "                hue_order=None,\n",
    "                bw='scott',\n",
    "                cut=2,\n",
    "                scale='area',\n",
    "                scale_hue=True,\n",
    "                gridsize=100,\n",
    "                width=0.8,\n",
    "                inner='box',\n",
    "                split=False,\n",
    "                dodge=True,\n",
    "                orient=None,\n",
    "                linewidth=None,\n",
    "                color=None,\n",
    "                palette=None,\n",
    "                saturation=0.75,\n",
    "                ax=None,\n",
    "                **kwargs,\n",
    "                )\n",
    "Docstring:\n",
    "Draw a combination of boxplot and kernel density estimate.\n",
    "\n",
    "A violin plot plays a similar role as a box and whisker plot. It shows the distribution of quantitative data across several levels of one (or more) categorical variables such that those distributions can be compared. Unlike a box plot, in which all of the plot components correspond to actual datapoints, the violin plot features a kernel density estimation of the underlying distribution.\n",
    "\n",
    "This can be an effective and attractive way to show multiple distributions of data at once, but keep in mind that the estimation procedure is influenced by the sample size, and violins for relatively small samples might look misleadingly smooth.\n",
    "\n",
    "\n",
    "Input data can be passed in a variety of formats, including:\n",
    "\n",
    "- Vectors of data represented as lists, numpy arrays, or pandas Series objects passed directly to the ``x``, ``y``, and/or\n",
    "    ``hue`` parameters.\n",
    "- A \"long-form\" DataFrame, in which case the ``x``, ``y``, and ``hue`` variables will determine how the data are plotted.\n",
    "- A \"wide-form\" DataFrame, such that each numeric column will be plotted.\n",
    "- An array or list of vectors.\n",
    "\n",
    "In most cases, it is possible to use numpy or Python objects, but pandas objects are preferable because the associated names will be used to annotate the axes. Additionally, you can use Categorical types for the grouping variables to control the order of plot elements.    \n",
    "\n",
    "This function always treats one of the variables as categorical and draws data at ordinal positions (0, 1, ... n) on the relevant axis, even when the data has a numeric or date type.\n",
    "\n",
    "See the :ref:`tutorial <categorical_tutorial>` for more information.    \n",
    "\n",
    "Parameters\n",
    "----------\n",
    "x, y, hue : names of variables in ``data`` or vector data, optional\n",
    "    Inputs for plotting long-form data. See examples for interpretation.        \n",
    "data : DataFrame, array, or list of arrays, optional\n",
    "    Dataset for plotting. If ``x`` and ``y`` are absent, this is interpreted as wide-form. Otherwise it is expected to be \n",
    "    long-form.    \n",
    "order, hue_order : lists of strings, optional\n",
    "    Order to plot the categorical levels in, otherwise the levels are inferred from the data objects.        \n",
    "bw : {'scott', 'silverman', float}, optional\n",
    "    Either the name of a reference rule or the scale factor to use when computing the kernel bandwidth. The actual kernel size\n",
    "    will be determined by multiplying the scale factor by the standard deviation of the data within each bin.\n",
    "cut : float, optional\n",
    "    Distance, in units of bandwidth size, to extend the density past the extreme datapoints. Set to 0 to limit the violin range\n",
    "    within the range of the observed data (i.e., to have the same effect as ``trim=True`` in ``ggplot``.\n",
    "scale : {\"area\", \"count\", \"width\"}, optional\n",
    "    The method used to scale the width of each violin. If ``area``, each violin will have the same area. If ``count``, the width\n",
    "    of the violins will be scaled by the number of observations in that bin. If ``width``, each violin will have the same width.\n",
    "scale_hue : bool, optional\n",
    "    When nesting violins using a ``hue`` variable, this parameter determines whether the scaling is computed within each level\n",
    "    of the major grouping variable (``scale_hue=True``) or across all the violins on the plot (``scale_hue=False``).\n",
    "gridsize : int, optional\n",
    "    Number of points in the discrete grid used to compute the kernel density estimate.\n",
    "width : float, optional\n",
    "    Width of a full element when not using hue nesting, or width of all the elements for one level of the major grouping\n",
    "    variable.    \n",
    "inner : {\"box\", \"quartile\", \"point\", \"stick\", None}, optional\n",
    "    Representation of the datapoints in the violin interior. If ``box``, draw a miniature boxplot. If ``quartiles``, draw the\n",
    "    quartiles of the distribution.  If ``point`` or ``stick``, show each underlying datapoint. Using ``None`` will draw\n",
    "    unadorned violins.\n",
    "split : bool, optional\n",
    "    When using hue nesting with a variable that takes two levels, setting ``split`` to True will draw half of a violin for each\n",
    "    level. This can make it easier to directly compare the distributions.\n",
    "dodge : bool, optional\n",
    "    When hue nesting is used, whether elements should be shifted along the categorical axis.    \n",
    "orient : \"v\" | \"h\", optional\n",
    "    Orientation of the plot (vertical or horizontal). This is usually inferred based on the type of the input variables, but it \n",
    "    can be used to resolve ambiguity when both `x` and `y` are numeric or when plotting wide-form data.    \n",
    "linewidth : float, optional\n",
    "    Width of the gray lines that frame the plot elements.    \n",
    "color : matplotlib color, optional\n",
    "    Color for all of the elements, or seed for a gradient palette.    \n",
    "palette : palette name, list, or dict\n",
    "    Colors to use for the different levels of the ``hue`` variable. Should be something that can be interpreted by \n",
    "    :func:`color_palette`, or a dictionary mapping hue levels to matplotlib colors.    \n",
    "saturation : float, optional\n",
    "    Proportion of the original saturation to draw colors at. Large patches often look better with slightly desaturated colors,\n",
    "    but set this to ``1`` if you want the plot colors to perfectly match the input color spec.    \n",
    "ax : matplotlib Axes, optional\n",
    "    Axes object to draw the plot onto, otherwise uses the current Axes.    \n",
    "\n",
    "Returns\n",
    "-------\n",
    "ax : matplotlib Axes\n",
    "    Returns the Axes object with the plot drawn onto it.    \n",
    "\n",
    "See Also\n",
    "--------\n",
    "boxplot   : A traditional box-and-whisker plot with a similar API.    \n",
    "stripplot : A scatterplot where one variable is categorical. Can be used\n",
    "            in conjunction with other plots to show each observation.    \n",
    "swarmplot : A categorical scatterplot where the points do not overlap. Can\n",
    "            be used with other plots to show each observation.    \n",
    "catplot   : Combine a categorical plot with a :class:`FacetGrid`.    \n"
   ]
  },
  {
   "cell_type": "code",
   "execution_count": null,
   "metadata": {},
   "outputs": [],
   "source": []
  },
  {
   "cell_type": "code",
   "execution_count": null,
   "metadata": {},
   "outputs": [],
   "source": []
  },
  {
   "cell_type": "code",
   "execution_count": null,
   "metadata": {},
   "outputs": [],
   "source": []
  },
  {
   "cell_type": "code",
   "execution_count": null,
   "metadata": {},
   "outputs": [],
   "source": []
  },
  {
   "cell_type": "markdown",
   "metadata": {
    "id": "2uXuuSRVqgZp"
   },
   "source": [
    "### <p style=\"background-color:#9d4f8c; font-family:newtimeroman; color:#FFF9ED; font-size:150%; text-align:left; border-radius:10px 10px;\">Optional Violinplot Example</p>\n",
    "\n",
    "<a id=\"4.1\"></a>\n",
    "<a href=\"#toc\" class=\"btn btn-primary btn-sm\" role=\"button\" aria-pressed=\"true\" \n",
    "style=\"color:blue; background-color:#dfa8e4\" data-toggle=\"popover\">Content</a>"
   ]
  },
  {
   "cell_type": "code",
   "execution_count": null,
   "metadata": {},
   "outputs": [],
   "source": []
  },
  {
   "cell_type": "code",
   "execution_count": null,
   "metadata": {},
   "outputs": [],
   "source": []
  },
  {
   "cell_type": "code",
   "execution_count": null,
   "metadata": {},
   "outputs": [],
   "source": []
  },
  {
   "cell_type": "markdown",
   "metadata": {
    "id": "pllFcxaarPkA"
   },
   "source": [
    "### <p style=\"background-color:#9d4f8c; font-family:newtimeroman; color:#FFF9ED; font-size:150%; text-align:left; border-radius:10px 10px;\">\"split\" Parameter</p>\n",
    "\n",
    "<a id=\"4.2\"></a>\n",
    "<a href=\"#toc\" class=\"btn btn-primary btn-sm\" role=\"button\" aria-pressed=\"true\" \n",
    "style=\"color:blue; background-color:#dfa8e4\" data-toggle=\"popover\">Content</a>\n",
    "\n",
    "When using hue nesting with a variable that takes two levels, setting split to True will draw half of a violin for each level. This can make it easier to directly compare the distributions."
   ]
  },
  {
   "cell_type": "code",
   "execution_count": null,
   "metadata": {},
   "outputs": [],
   "source": []
  },
  {
   "cell_type": "markdown",
   "metadata": {
    "id": "q4abk05XrflH"
   },
   "source": [
    "### <p style=\"background-color:#9d4f8c; font-family:newtimeroman; color:#FFF9ED; font-size:150%; text-align:left; border-radius:10px 10px;\">\"inner\" Parameter</p>\n",
    "\n",
    "<a id=\"4.3\"></a>\n",
    "<a href=\"#toc\" class=\"btn btn-primary btn-sm\" role=\"button\" aria-pressed=\"true\" \n",
    "style=\"color:blue; background-color:#dfa8e4\" data-toggle=\"popover\">Content</a>\n",
    "\n",
    "default: inner='box'\n",
    "\n",
    "Representation of the datapoints in the violin interior. If ``box``, draw a miniature boxplot. If ``quartile``, draw the quartiles of the distribution. If ``point`` or ``stick``, show each underlying datapoint. Using ``None`` will draw unadorned violins."
   ]
  },
  {
   "cell_type": "code",
   "execution_count": null,
   "metadata": {},
   "outputs": [],
   "source": []
  },
  {
   "cell_type": "code",
   "execution_count": null,
   "metadata": {},
   "outputs": [],
   "source": []
  },
  {
   "cell_type": "code",
   "execution_count": null,
   "metadata": {},
   "outputs": [],
   "source": []
  },
  {
   "cell_type": "code",
   "execution_count": null,
   "metadata": {},
   "outputs": [],
   "source": []
  },
  {
   "cell_type": "markdown",
   "metadata": {
    "id": "jOtM2Oy-sdxn"
   },
   "source": [
    "### <p style=\"background-color:#9d4f8c; font-family:newtimeroman; color:#FFF9ED; font-size:150%; text-align:left; border-radius:10px 10px;\">\"bandwidth\" Parameter</p>\n",
    "\n",
    "<a id=\"4.4\"></a>\n",
    "<a href=\"#toc\" class=\"btn btn-primary btn-sm\" role=\"button\" aria-pressed=\"true\" \n",
    "style=\"color:blue; background-color:#dfa8e4\" data-toggle=\"popover\">Content</a>\n",
    "\n",
    "Similar to bandwidth argument for kdeplot"
   ]
  },
  {
   "cell_type": "code",
   "execution_count": null,
   "metadata": {},
   "outputs": [],
   "source": []
  },
  {
   "cell_type": "code",
   "execution_count": null,
   "metadata": {},
   "outputs": [],
   "source": []
  },
  {
   "cell_type": "markdown",
   "metadata": {
    "id": "hxyIRMfKt3Io"
   },
   "source": [
    "## <p style=\"background-color:#9d4f8c; font-family:newtimeroman; color:#FFF9ED; font-size:150%; text-align:center; border-radius:10px 10px;\">SWARMPLOT</p>\n",
    "\n",
    "<a id=\"5\"></a>\n",
    "<a href=\"#toc\" class=\"btn btn-primary btn-sm\" role=\"button\" aria-pressed=\"true\" \n",
    "style=\"color:blue; background-color:#dfa8e4\" data-toggle=\"popover\">Content</a>\n",
    "\n",
    "A ``swarmplot`` is a type of scatter plot that is used for representing categorical values. It is very similar to the strip plot, but it avoids the overlapping of points.\n",
    "\n",
    "🧐 **[seaborn.swarmplot Documentation](https://seaborn.pydata.org/generated/seaborn.swarmplot.html)**,<br>\n",
    "🧐 **[Seaborn Swarmplot](https://www.delftstack.com/howto/seaborn/seaborn-swarm-plot-python/#:~:text=A%20swarm%20plot%20is%20a,avoids%20the%20overlapping%20of%20points.)**,<br>\n",
    "🧐 **[Violin, Strip, Swarm, and Raincloud Plots in Python as Better (Sometimes) Alternatives to a Boxplot](https://towardsdatascience.com/violin-strip-swarm-and-raincloud-plots-in-python-as-better-sometimes-alternatives-to-a-boxplot-15019bdff8f8)**,<br>\n",
    "🧐 **[Strip plot and swarm plot](https://www.oreilly.com/library/view/matplotlib-2x-by/9781788295260/f71c5b21-e7ea-447f-b898-0e38ba786ad7.xhtml)**,<br>\n",
    "🧐 **[Swarm plot](https://prvnk10.medium.com/swarm-plot-4728f52b688e)**,<br>\n",
    "🧐 **[Swarmplot using Seaborn in Python](https://www.geeksforgeeks.org/swarmplot-using-seaborn-in-python/)**<br>\n",
    "\n",
    "**What is a swarm plot and how do you make a swarmplot with Python seaborn? on YouTube**"
   ]
  },
  {
   "cell_type": "code",
   "execution_count": 101,
   "metadata": {},
   "outputs": [
    {
     "data": {
      "image/jpeg": "[encoded data removed]",
      "text/html": [
       "\n",
       "        <iframe\n",
       "            width=\"800\"\n",
       "            height=\"500\"\n",
       "            src=\"https://www.youtube.com/embed/5e9NBhGBVwk\"\n",
       "            frameborder=\"0\"\n",
       "            allowfullscreen\n",
       "            \n",
       "        ></iframe>\n",
       "        "
      ],
      "text/plain": [
       "<IPython.lib.display.YouTubeVideo at 0x1d305684590>"
      ]
     },
     "execution_count": 101,
     "metadata": {},
     "output_type": "execute_result"
    }
   ],
   "source": [
    "from IPython.display import YouTubeVideo\n",
    "\n",
    "YouTubeVideo('5e9NBhGBVwk', width=800, height=500)"
   ]
  },
  {
   "cell_type": "raw",
   "metadata": {},
   "source": [
    "sns.swarmplot(\n",
    "              *,\n",
    "              x=None,\n",
    "              y=None,\n",
    "              hue=None,\n",
    "              data=None,\n",
    "              order=None,\n",
    "              hue_order=None,\n",
    "              dodge=False,\n",
    "              orient=None,\n",
    "              color=None,\n",
    "              palette=None,\n",
    "              size=5,\n",
    "              edgecolor='gray',\n",
    "              linewidth=0,\n",
    "              ax=None,\n",
    "              **kwargs,\n",
    "              )\n",
    "Docstring:\n",
    "Draw a categorical scatterplot with non-overlapping points.\n",
    "\n",
    "This function is similar to :func:`stripplot`, but the points are adjusted (only along the categorical axis) so that they don't overlap. This gives a better representation of the distribution of values, but it does not scale well to large numbers of observations. This style of plot is sometimes called a \"beeswarm\".\n",
    "\n",
    "A swarm plot can be drawn on its own, but it is also a good complement to a box or violin plot in cases where you want to show all observations along with some representation of the underlying distribution.\n",
    "\n",
    "Arranging the points properly requires an accurate transformation between data and point coordinates. This means that non-default axis limits must be set *before* drawing the plot.\n",
    "\n",
    "\n",
    "Input data can be passed in a variety of formats, including:\n",
    "\n",
    "- Vectors of data represented as lists, numpy arrays, or pandas Series objects passed directly to the ``x``, ``y``, and/or\n",
    "    ``hue`` parameters.\n",
    "- A \"long-form\" DataFrame, in which case the ``x``, ``y``, and ``hue`` variables will determine how the data are plotted.\n",
    "- A \"wide-form\" DataFrame, such that each numeric column will be plotted.\n",
    "- An array or list of vectors.\n",
    "\n",
    "In most cases, it is possible to use numpy or Python objects, but pandas objects are preferable because the associated names will be used to annotate the axes. Additionally, you can use Categorical types for the grouping variables to control the order of plot elements.    \n",
    "\n",
    "This function always treats one of the variables as categorical and draws data at ordinal positions (0, 1, ... n) on the relevant axis, even when the data has a numeric or date type.\n",
    "\n",
    "See the :ref:`tutorial <categorical_tutorial>` for more information.    \n",
    "\n",
    "Parameters\n",
    "----------\n",
    "x, y, hue : names of variables in ``data`` or vector data, optional\n",
    "    Inputs for plotting long-form data. See examples for interpretation.        \n",
    "data : DataFrame, array, or list of arrays, optional\n",
    "    Dataset for plotting. If ``x`` and ``y`` are absent, this is interpreted as wide-form. Otherwise it is expected to be \n",
    "    long-form.    \n",
    "order, hue_order : lists of strings, optional\n",
    "    Order to plot the categorical levels in, otherwise the levels are inferred from the data objects.        \n",
    "dodge : bool, optional\n",
    "    When using ``hue`` nesting, setting this to ``True`` will separate the strips for different hue levels along the categorical\n",
    "    axis. Otherwise, the points for each level will be plotted in one swarm.\n",
    "orient : \"v\" | \"h\", optional\n",
    "    Orientation of the plot (vertical or horizontal). This is usually inferred based on the type of the input variables, but it\n",
    "    can be used to resolve ambiguity when both `x` and `y` are numeric or when plotting wide-form data.    \n",
    "color : matplotlib color, optional\n",
    "    Color for all of the elements, or seed for a gradient palette.    \n",
    "palette : palette name, list, or dict\n",
    "    Colors to use for the different levels of the ``hue`` variable. Should be something that can be interpreted by \n",
    "    :func:`color_palette`, or a dictionary mapping hue levels to matplotlib colors.    \n",
    "size : float, optional\n",
    "    Radius of the markers, in points.\n",
    "edgecolor : matplotlib color, \"gray\" is special-cased, optional\n",
    "    Color of the lines around each point. If you pass ``\"gray\"``, the brightness is determined by the color palette used for the\n",
    "    body of the points.\n",
    "linewidth : float, optional\n",
    "    Width of the gray lines that frame the plot elements.    \n",
    "ax : matplotlib Axes, optional\n",
    "    Axes object to draw the plot onto, otherwise uses the current Axes.    \n",
    "kwargs : key, value mappings\n",
    "    Other keyword arguments are passed through to :meth:`matplotlib.axes.Axes.scatter`.\n",
    "\n",
    "Returns\n",
    "-------\n",
    "ax : matplotlib Axes\n",
    "    Returns the Axes object with the plot drawn onto it.    \n",
    "\n",
    "See Also\n",
    "--------\n",
    "boxplot    : A traditional box-and-whisker plot with a similar API.    \n",
    "violinplot : A combination of boxplot and kernel density estimation.    \n",
    "stripplot  : A scatterplot where one variable is categorical. Can be used\n",
    "            in conjunction with other plots to show each observation.    \n",
    "catplot    : Combine a categorical plot with a :class:`FacetGrid`.  "
   ]
  },
  {
   "cell_type": "code",
   "execution_count": null,
   "metadata": {},
   "outputs": [],
   "source": []
  },
  {
   "cell_type": "code",
   "execution_count": null,
   "metadata": {},
   "outputs": [],
   "source": []
  },
  {
   "cell_type": "code",
   "execution_count": null,
   "metadata": {},
   "outputs": [],
   "source": []
  },
  {
   "cell_type": "code",
   "execution_count": null,
   "metadata": {},
   "outputs": [],
   "source": []
  },
  {
   "cell_type": "markdown",
   "metadata": {},
   "source": [
    "**A swarm plot is very similar to a strip plot, yet the locations of points are adjusted automatically to avoid overlap even if the jitter value is not applied. These plots resemble bees swarming.**\n",
    "\n",
    "**A strip is basically a scatter plot where the x axis represents a categorical variable. Typical uses of a strip plot involves applying a small random jitter value to each data point such that the separation between points becomes more clear.**\n",
    "\n",
    "**jitter can be used to provide displacements along the horizontal axis, which is useful when there are large clusters of data points. You can specify the amount of jitter (half the width of the uniform random variable support), or just use True for a good default.**"
   ]
  },
  {
   "cell_type": "code",
   "execution_count": null,
   "metadata": {},
   "outputs": [],
   "source": []
  },
  {
   "cell_type": "code",
   "execution_count": null,
   "metadata": {},
   "outputs": [],
   "source": []
  },
  {
   "cell_type": "code",
   "execution_count": null,
   "metadata": {},
   "outputs": [],
   "source": []
  },
  {
   "cell_type": "markdown",
   "metadata": {
    "id": "HTvR9xIxFuOZ"
   },
   "source": [
    "### <p style=\"background-color:#9d4f8c; font-family:newtimeroman; color:#FFF9ED; font-size:150%; text-align:left; border-radius:10px 10px;\">Optional Swarmplot Example</p>\n",
    "\n",
    "<a id=\"5.1\"></a>\n",
    "<a href=\"#toc\" class=\"btn btn-primary btn-sm\" role=\"button\" aria-pressed=\"true\" \n",
    "style=\"color:blue; background-color:#dfa8e4\" data-toggle=\"popover\">Content</a>"
   ]
  },
  {
   "cell_type": "code",
   "execution_count": null,
   "metadata": {},
   "outputs": [],
   "source": []
  },
  {
   "cell_type": "code",
   "execution_count": null,
   "metadata": {},
   "outputs": [],
   "source": []
  },
  {
   "cell_type": "markdown",
   "metadata": {},
   "source": [
    "### <p style=\"background-color:#9d4f8c; font-family:newtimeroman; color:#FFF9ED; font-size:150%; text-align:left; border-radius:10px 10px;\">\"dodge\" Parameter</p>\n",
    "\n",
    "<a id=\"5.2\"></a>\n",
    "<a href=\"#toc\" class=\"btn btn-primary btn-sm\" role=\"button\" aria-pressed=\"true\" \n",
    "style=\"color:blue; background-color:#dfa8e4\" data-toggle=\"popover\">Content</a>\n",
    "\n",
    "**dodge:** Amount to separate the points for each level of the ‘hue’ variable along the categorical axis."
   ]
  },
  {
   "cell_type": "code",
   "execution_count": null,
   "metadata": {},
   "outputs": [],
   "source": []
  },
  {
   "cell_type": "markdown",
   "metadata": {
    "id": "LqVBYJAJuen_"
   },
   "source": [
    "## <p style=\"background-color:#9d4f8c; font-family:newtimeroman; color:#FFF9ED; font-size:150%; text-align:CENTER; border-radius:10px 10px;\">BOXENPLOT (LETTER-VALUE PLOT)</p>\n",
    "\n",
    "<a id=\"6\"></a>\n",
    "<a href=\"#toc\" class=\"btn btn-primary btn-sm\" role=\"button\" aria-pressed=\"true\" \n",
    "style=\"color:blue; background-color:#dfa8e4\" data-toggle=\"popover\">Content</a>\n",
    "\n",
    "Official Paper on this plot: 🧐 **[Official Paper](https://vita.had.co.nz/papers/letter-value-plot.html)**\n",
    "\n",
    "``Boxenplots (or letter-value plots)`` are an advancement of boxplots, designed to visualize distributions more accurately. This style of plot was originally named a “letter value” plot because it shows a large number of quantiles that are defined as “letter values”. It is similar to a box plot in plotting a nonparametric representation of a distribution in which all features correspond to actual observations. By plotting more quantiles, it provides more information about the shape of the distribution, particularly in the tails.\n",
    "\n",
    "\n",
    "🧐 **[seaborn.boxenplot Documentation](https://seaborn.pydata.org/generated/seaborn.boxenplot.html)**,<br>\n",
    "🧐 **[Understanding Letter Value Plot and Boxenplot](https://towardsdatascience.com/letter-value-plot-the-easy-to-understand-boxplot-for-large-datasets-12d6c1279c97#:~:text=Boxenplots%20(or%20letter%2Dvalue%20plots,boxplots%20using%20a%20practical%20example.)**,<br>\n",
    "🧐 **[How boxen plot is different from box plot? on Stackoverflow](https://stackoverflow.com/questions/52403381/how-boxen-plot-is-different-from-box-plot)**,<br>\n",
    "🧐 **[How to Create a Boxen Plot in Seaborn](https://koalatea.io/seaborn-boxen-plot/)**,<br>\n",
    "🧐 **[How to interpret a boxenplot?](https://stackoverflow.com/questions/70157868/how-to-interpret-a-boxenplot)**<br>\n",
    "\n",
    "**Boxenplot - Seaborn on YouTube**"
   ]
  },
  {
   "cell_type": "code",
   "execution_count": 112,
   "metadata": {},
   "outputs": [
    {
     "data": {
      "image/jpeg": "[encoded data removed]",
      "text/html": [
       "\n",
       "        <iframe\n",
       "            width=\"800\"\n",
       "            height=\"500\"\n",
       "            src=\"https://www.youtube.com/embed/iphSva1Q8N0\"\n",
       "            frameborder=\"0\"\n",
       "            allowfullscreen\n",
       "            \n",
       "        ></iframe>\n",
       "        "
      ],
      "text/plain": [
       "<IPython.lib.display.YouTubeVideo at 0x1d3010e7290>"
      ]
     },
     "execution_count": 112,
     "metadata": {},
     "output_type": "execute_result"
    }
   ],
   "source": [
    "from IPython.display import YouTubeVideo\n",
    "\n",
    "YouTubeVideo('iphSva1Q8N0', width=800, height=500)"
   ]
  },
  {
   "cell_type": "raw",
   "metadata": {},
   "source": [
    "sns.boxenplot(\n",
    "              *,\n",
    "              x=None,\n",
    "              y=None,\n",
    "              hue=None,\n",
    "              data=None,\n",
    "              order=None,\n",
    "              hue_order=None,\n",
    "              orient=None,\n",
    "              color=None,\n",
    "              palette=None,\n",
    "              saturation=0.75,\n",
    "              width=0.8,\n",
    "              dodge=True,\n",
    "              k_depth='tukey',\n",
    "              linewidth=None,\n",
    "              scale='exponential',\n",
    "              outlier_prop=0.007,\n",
    "              trust_alpha=0.05,\n",
    "              showfliers=True,\n",
    "              ax=None,\n",
    "              **kwargs,\n",
    "            )\n",
    "Docstring:\n",
    "Draw an enhanced box plot for larger datasets.\n",
    "\n",
    "This style of plot was originally named a \"letter value\" plot because it shows a large number of quantiles that are defined as \"letter values\".  It is similar to a box plot in plotting a nonparametric representation of a distribution in which all features correspond to actual observations. By plotting more quantiles, it provides more information about the shape of the distribution, particularly in the tails. For a more extensive explanation, you can read the paper that introduced the plot:\n",
    "\n",
    "https://vita.had.co.nz/papers/letter-value-plot.html\n",
    "\n",
    "Input data can be passed in a variety of formats, including:\n",
    "\n",
    "- Vectors of data represented as lists, numpy arrays, or pandas Series objects passed directly to the ``x``, ``y``, and/or\n",
    "    ``hue`` parameters.\n",
    "- A \"long-form\" DataFrame, in which case the ``x``, ``y``, and ``hue`` variables will determine how the data are plotted.\n",
    "- A \"wide-form\" DataFrame, such that each numeric column will be plotted.\n",
    "- An array or list of vectors.\n",
    "\n",
    "In most cases, it is possible to use numpy or Python objects, but pandas objects are preferable because the associated names will be used to annotate the axes. Additionally, you can use Categorical types for the grouping variables to control the order of plot elements.    \n",
    "\n",
    "This function always treats one of the variables as categorical and draws data at ordinal positions (0, 1, ... n) on the relevant axis, even when the data has a numeric or date type.\n",
    "\n",
    "See the :ref:`tutorial <categorical_tutorial>` for more information.    \n",
    "\n",
    "Parameters\n",
    "----------\n",
    "x, y, hue : names of variables in ``data`` or vector data, optional\n",
    "    Inputs for plotting long-form data. See examples for interpretation.        \n",
    "data : DataFrame, array, or list of arrays, optional\n",
    "    Dataset for plotting. If ``x`` and ``y`` are absent, this is interpreted as wide-form. Otherwise it is expected to be \n",
    "    long-form.    \n",
    "order, hue_order : lists of strings, optional\n",
    "    Order to plot the categorical levels in, otherwise the levels are inferred from the data objects.        \n",
    "orient : \"v\" | \"h\", optional\n",
    "    Orientation of the plot (vertical or horizontal). This is usually inferred based on the type of the input variables, but it\n",
    "    can be used to resolve ambiguity when both `x` and `y` are numeric or when plotting wide-form data.    \n",
    "color : matplotlib color, optional\n",
    "    Color for all of the elements, or seed for a gradient palette.    \n",
    "palette : palette name, list, or dict\n",
    "    Colors to use for the different levels of the ``hue`` variable. Should be something that can be interpreted by\n",
    "    :func:`color_palette`, or a dictionary mapping hue levels to matplotlib colors.    \n",
    "saturation : float, optional\n",
    "    Proportion of the original saturation to draw colors at. Large patches often look better with slightly desaturated colors,\n",
    "    but set this to ``1`` if you want the plot colors to perfectly match the input color spec.    \n",
    "width : float, optional\n",
    "    Width of a full element when not using hue nesting, or width of all the elements for one level of the major grouping \n",
    "    variable.    \n",
    "dodge : bool, optional\n",
    "    When hue nesting is used, whether elements should be shifted along the categorical axis.    \n",
    "k_depth : {\"tukey\", \"proportion\", \"trustworthy\", \"full\"} or scalar,    optional\n",
    "    The number of boxes, and by extension number of percentiles, to draw.\n",
    "    All methods are detailed in Wickham's paper. Each makes different assumptions about the number of outliers and leverages\n",
    "    different statistical properties. If \"proportion\", draw no more than `outlier_prop` extreme observations. If \"full\", draw \n",
    "    `log(n)+1` boxes.\n",
    "linewidth : float, optional\n",
    "    Width of the gray lines that frame the plot elements.    \n",
    "scale : {\"exponential\", \"linear\", \"area\"}, optional\n",
    "    Method to use for the width of the letter value boxes. All give similar results visually. \"linear\" reduces the width by a \n",
    "    constant linear factor, \"exponential\" uses the proportion of data not covered, \"area\" is proportional to the percentage of\n",
    "    data covered.\n",
    "outlier_prop : float, optional\n",
    "    Proportion of data believed to be outliers. Must be in the range (0, 1]. Used to determine the number of boxes to plot when\n",
    "    `k_depth=\"proportion\"`.\n",
    "trust_alpha : float, optional\n",
    "    Confidence level for a box to be plotted. Used to determine the number of boxes to plot when `k_depth=\"trustworthy\"`. Must \n",
    "    be in the range (0, 1).\n",
    "showfliers : bool, optional\n",
    "    If False, suppress the plotting of outliers.\n",
    "ax : matplotlib Axes, optional\n",
    "    Axes object to draw the plot onto, otherwise uses the current Axes.    \n",
    "kwargs : key, value mappings\n",
    "    Other keyword arguments are passed through to\n",
    "    :meth:`matplotlib.axes.Axes.plot` and\n",
    "    :meth:`matplotlib.axes.Axes.scatter`.\n",
    "\n",
    "Returns\n",
    "-------\n",
    "ax : matplotlib Axes\n",
    "    Returns the Axes object with the plot drawn onto it.    \n",
    "\n",
    "See Also\n",
    "--------\n",
    "violinplot : A combination of boxplot and kernel density estimation.    \n",
    "boxplot    : A traditional box-and-whisker plot with a similar API.    \n",
    "catplot    : Combine a categorical plot with a :class:`FacetGrid`.    "
   ]
  },
  {
   "cell_type": "code",
   "execution_count": null,
   "metadata": {},
   "outputs": [],
   "source": []
  },
  {
   "cell_type": "code",
   "execution_count": null,
   "metadata": {},
   "outputs": [],
   "source": []
  },
  {
   "cell_type": "code",
   "execution_count": null,
   "metadata": {},
   "outputs": [],
   "source": []
  },
  {
   "cell_type": "code",
   "execution_count": null,
   "metadata": {},
   "outputs": [],
   "source": []
  },
  {
   "cell_type": "markdown",
   "metadata": {
    "id": "gZzYLFv3uoFA"
   },
   "source": [
    "The box plot shows the median as the centerline (50th percentile), then the 25th and 75th percentile as the box boundaries. Then the IQR method is used to calculate outlier boundaries (1.5 * IQR + Q3 for the upper boundary, for example). Q3 is the 3rd quartile, or 75th percentile of the data (75% of the data is below this value). Outliers outside of the outlier whiskers are shown as distinct points.\n",
    "\n",
    "**``Boxenplots``** (actually called **letter-value plots** in the original paper and in the lvplot R package) show the distribution differently and are **better for bigger datasets**. **Classic boxplots** can have **too many outliers** and **don't show as much information about the distribution**. **``Letter-value plots (boxenplots)``** start with the median (Q2, 50th percentile) as the centerline. **Each successive level outward contains half of the remaining data**. So the first two sections out from the centerline contain 50% of the data. After that, the next two sections contain 25% of the data. This continues until we are at the outlier level. Each level out is shaded lighter. There are **4 methods for calculating outliers** (described in the paper and available in seaborn). The default is to end up with around 5-8 outliers in each tail.\n",
    "\n",
    "![Capture13.PNG](https://i.ibb.co/YfpTDg9/Capture13.png)\n",
    "\n",
    "🧐 **[Letter-value plots: Boxplots for large data](https://vita.had.co.nz/papers/letter-value-plot.html)**,<br>\n",
    "🧐 **[How boxen plot is different from box plot?](https://stackoverflow.com/questions/52403381/how-boxen-plot-is-different-from-box-plot)**"
   ]
  },
  {
   "cell_type": "markdown",
   "metadata": {
    "id": "U7N9-CSeHCDr"
   },
   "source": [
    "## <p style=\"background-color:#9d4f8c; font-family:newtimeroman; color:#FFF9ED; font-size:150%; text-align:CENTER; border-radius:10px 10px;\">LINEPLOT</p>\n",
    "\n",
    "<a id=\"7\"></a>\n",
    "<a href=\"#toc\" class=\"btn btn-primary btn-sm\" role=\"button\" aria-pressed=\"true\" \n",
    "style=\"color:blue; background-color:#dfa8e4\" data-toggle=\"popover\">Content</a>\n",
    "\n",
    "A ``line plot``, or dot plot, is a plot that shows the frequency with which values occur in a data set. It can be used to analyze and communicate frequency. According to the wiki, “A line chart or line plot or line graph is a type of chart which displays information as a series of data points called ‘markers’ connected by straight line segments. It is a basic type of chart common in many fields”\n",
    "\n",
    "🧐 **[seaborn.lineplot Documentation](https://seaborn.pydata.org/generated/seaborn.lineplot.html)**,<br>\n",
    "🧐 **[What does a line plot tell us?](https://www.splashlearn.com/math-vocabulary/geometry/line-plot)**,<br>\n",
    "🧐 **[Why line plot is used?](https://www.investopedia.com/terms/l/line-graph.asp)**,<br>\n",
    "🧐 **[Line Charts: Using, Examples, and Interpreting](https://statisticsbyjim.com/graphs/line-charts/)**,<br>\n",
    "🧐 **[Line-Plot (Visualizations-what are they and what do we use them for?)](https://medium.com/@patrickbfuller/line-plot-7b4068a3a9fc)**<br>\n",
    "\n",
    "**How to make a Seaborn lineplot and what is bootstrapping in Seaborn? on YouTube**"
   ]
  },
  {
   "cell_type": "code",
   "execution_count": 117,
   "metadata": {},
   "outputs": [
    {
     "data": {
      "image/jpeg": "[encoded data removed]",
      "text/html": [
       "\n",
       "        <iframe\n",
       "            width=\"800\"\n",
       "            height=\"500\"\n",
       "            src=\"https://www.youtube.com/embed/CMRVEKf9jWA\"\n",
       "            frameborder=\"0\"\n",
       "            allowfullscreen\n",
       "            \n",
       "        ></iframe>\n",
       "        "
      ],
      "text/plain": [
       "<IPython.lib.display.YouTubeVideo at 0x1d3054ebd90>"
      ]
     },
     "execution_count": 117,
     "metadata": {},
     "output_type": "execute_result"
    }
   ],
   "source": [
    "from IPython.display import YouTubeVideo\n",
    "\n",
    "YouTubeVideo('CMRVEKf9jWA', width=800, height=500)"
   ]
  },
  {
   "cell_type": "raw",
   "metadata": {},
   "source": [
    "sns.lineplot(\n",
    "             *,\n",
    "             x=None,\n",
    "             y=None,\n",
    "             hue=None,\n",
    "             size=None,\n",
    "             style=None,\n",
    "             data=None,\n",
    "             palette=None,\n",
    "             hue_order=None,\n",
    "             hue_norm=None,\n",
    "             sizes=None,\n",
    "             size_order=None,\n",
    "             size_norm=None,\n",
    "             dashes=True,\n",
    "             markers=None,\n",
    "             style_order=None,\n",
    "             units=None,\n",
    "             estimator='mean',\n",
    "             ci=95,\n",
    "             n_boot=1000,\n",
    "             seed=None,\n",
    "             sort=True,\n",
    "             err_style='band',\n",
    "             err_kws=None,\n",
    "             legend='auto',\n",
    "             ax=None,\n",
    "             **kwargs,\n",
    "             )\n",
    "Docstring:\n",
    "Draw a line plot with possibility of several semantic groupings.\n",
    "\n",
    "The relationship between ``x`` and ``y`` can be shown for different subsets of the data using the ``hue``, ``size``, and ``style`` parameters. These parameters control what visual semantics are used to identify the different subsets. It is possible to show up to three dimensions independently by using all three semantic types, but this style of plot can be hard to interpret and is often ineffective. Using redundant semantics (i.e. both ``hue`` and ``style`` for the same variable) can be helpful for making graphics more accessible.\n",
    "\n",
    "See the :ref:`tutorial <relational_tutorial>` for more information.\n",
    "\n",
    "The default treatment of the ``hue`` (and to a lesser extent, ``size``) semantic, if present, depends on whether the variable is inferred to represent \"numeric\" or \"categorical\" data. In particular, numeric variables are represented with a sequential colormap by default, and the legend entries show regular \"ticks\" with values that may or may not exist in the data. This behavior can be controlled through various parameters, as described and illustrated below.\n",
    "\n",
    "By default, the plot aggregates over multiple ``y`` values at each value of ``x`` and shows an estimate of the central tendency and a confidence interval for that estimate.\n",
    "\n",
    "Parameters\n",
    "----------\n",
    "x, y : vectors or keys in ``data``\n",
    "    Variables that specify positions on the x and y axes.\n",
    "hue : vector or key in ``data``\n",
    "    Grouping variable that will produce lines with different colors.\n",
    "    Can be either categorical or numeric, although color mapping will behave differently in latter case.\n",
    "size : vector or key in ``data``\n",
    "    Grouping variable that will produce lines with different widths.\n",
    "    Can be either categorical or numeric, although size mapping will behave differently in latter case.\n",
    "style : vector or key in ``data``\n",
    "    Grouping variable that will produce lines with different dashes and/or markers. Can have a numeric dtype but will always be\n",
    "    treated as categorical.\n",
    "data : :class:`pandas.DataFrame`, :class:`numpy.ndarray`, mapping, or sequence\n",
    "    Input data structure. Either a long-form collection of vectors that can be assigned to named variables or a wide-form \n",
    "    dataset that will be internally reshaped.\n",
    "palette : string, list, dict, or :class:`matplotlib.colors.Colormap`\n",
    "    Method for choosing the colors to use when mapping the ``hue`` semantic.\n",
    "    String values are passed to :func:`color_palette`. List or dict values imply categorical mapping, while a colormap object\n",
    "    implies numeric mapping.\n",
    "hue_order : vector of strings\n",
    "    Specify the order of processing and plotting for categorical levels of the ``hue`` semantic.\n",
    "hue_norm : tuple or :class:`matplotlib.colors.Normalize`\n",
    "    Either a pair of values that set the normalization range in data units or an object that will map from data units into a \n",
    "    [0, 1] interval. Usage implies numeric mapping.\n",
    "sizes : list, dict, or tuple\n",
    "    An object that determines how sizes are chosen when ``size`` is used.\n",
    "    It can always be a list of size values or a dict mapping levels of the ``size`` variable to sizes. When ``size``  is \n",
    "    numeric, it can also be a tuple specifying the minimum and maximum size to use such that other values are normalized within \n",
    "    this range.\n",
    "size_order : list\n",
    "    Specified order for appearance of the ``size`` variable levels, otherwise they are determined from the data. Not relevant \n",
    "    when the ``size`` variable is numeric.\n",
    "size_norm : tuple or Normalize object\n",
    "    Normalization in data units for scaling plot objects when the\n",
    "    ``size`` variable is numeric.\n",
    "dashes : boolean, list, or dictionary\n",
    "    Object determining how to draw the lines for different levels of the ``style`` variable. Setting to ``True`` will use \n",
    "    default dash codes, or you can pass a list of dash codes or a dictionary mapping levels of the ``style`` variable to dash\n",
    "    codes. Setting to ``False`` will use solid lines for all subsets. Dashes are specified as in matplotlib: a tuple\n",
    "    of ``(segment, gap)`` lengths, or an empty string to draw a solid line.\n",
    "markers : boolean, list, or dictionary\n",
    "    Object determining how to draw the markers for different levels of the ``style`` variable. Setting to ``True`` will use\n",
    "    default markers, or you can pass a list of markers or a dictionary mapping levels of the ``style`` variable to markers.\n",
    "    Setting to ``False`` will draw marker-less lines.  Markers are specified as in matplotlib.\n",
    "style_order : list\n",
    "    Specified order for appearance of the ``style`` variable levels otherwise they are determined from the data. Not relevant\n",
    "    when the ``style`` variable is numeric.\n",
    "units : vector or key in ``data``\n",
    "    Grouping variable identifying sampling units. When used, a separate line will be drawn for each unit with appropriate \n",
    "    semantics, but no legend entry will be added. Useful for showing distribution of experimental replicates when exact \n",
    "    identities are not needed.\n",
    "estimator : name of pandas method or callable or None\n",
    "    Method for aggregating across multiple observations of the ``y`` variable at the same ``x`` level. If ``None``, all\n",
    "    observations will be drawn.\n",
    "ci : int or \"sd\" or None\n",
    "    Size of the confidence interval to draw when aggregating with an estimator. \"sd\" means to draw the standard deviation of the\n",
    "    data. Setting to ``None`` will skip bootstrapping.\n",
    "n_boot : int\n",
    "    Number of bootstraps to use for computing the confidence interval.\n",
    "seed : int, numpy.random.Generator, or numpy.random.RandomState\n",
    "    Seed or random number generator for reproducible bootstrapping.\n",
    "sort : boolean\n",
    "    If True, the data will be sorted by the x and y variables, otherwise lines will connect points in the order they appear in\n",
    "    the dataset.\n",
    "err_style : \"band\" or \"bars\"\n",
    "    Whether to draw the confidence intervals with translucent error bands or discrete error bars.\n",
    "err_kws : dict of keyword arguments\n",
    "    Additional paramters to control the aesthetics of the error bars. The kwargs are passed either to \n",
    "    :meth:`matplotlib.axes.Axes.fill_between` or :meth:`matplotlib.axes.Axes.errorbar`, depending on ``err_style``.\n",
    "legend : \"auto\", \"brief\", \"full\", or False\n",
    "    How to draw the legend. If \"brief\", numeric ``hue`` and ``size`` variables will be represented with a sample of evenly\n",
    "    spaced values. If \"full\", every group will get an entry in the legend. If \"auto\", choose between brief or full\n",
    "    representation based on number of levels. If ``False``, no legend data is added and no legend is drawn.\n",
    "ax : :class:`matplotlib.axes.Axes`\n",
    "    Pre-existing axes for the plot. Otherwise, call :func:`matplotlib.pyplot.gca` internally.\n",
    "kwargs : key, value mappings\n",
    "    Other keyword arguments are passed down to :meth:`matplotlib.axes.Axes.plot`.\n",
    "\n",
    "Returns\n",
    "-------\n",
    ":class:`matplotlib.axes.Axes`\n",
    "    The matplotlib axes containing the plot.\n",
    "\n",
    "See Also\n",
    "--------\n",
    "scatterplot : Plot data using points.\n",
    "pointplot   : Plot point estimates and CIs using markers and lines."
   ]
  },
  {
   "cell_type": "code",
   "execution_count": null,
   "metadata": {},
   "outputs": [],
   "source": []
  },
  {
   "cell_type": "code",
   "execution_count": null,
   "metadata": {},
   "outputs": [],
   "source": []
  },
  {
   "cell_type": "code",
   "execution_count": null,
   "metadata": {},
   "outputs": [],
   "source": []
  },
  {
   "cell_type": "code",
   "execution_count": null,
   "metadata": {},
   "outputs": [],
   "source": []
  },
  {
   "cell_type": "code",
   "execution_count": null,
   "metadata": {},
   "outputs": [],
   "source": []
  },
  {
   "cell_type": "code",
   "execution_count": null,
   "metadata": {},
   "outputs": [],
   "source": []
  },
  {
   "cell_type": "code",
   "execution_count": null,
   "metadata": {},
   "outputs": [],
   "source": []
  },
  {
   "cell_type": "code",
   "execution_count": null,
   "metadata": {},
   "outputs": [],
   "source": []
  },
  {
   "cell_type": "code",
   "execution_count": null,
   "metadata": {},
   "outputs": [],
   "source": []
  },
  {
   "cell_type": "code",
   "execution_count": null,
   "metadata": {},
   "outputs": [],
   "source": []
  },
  {
   "cell_type": "markdown",
   "metadata": {},
   "source": [
    "## <p style=\"background-color:#9d4f8c; font-family:newtimeroman; color:#FFF9ED; font-size:150%; text-align:center; border-radius:10px 10px;\">Seaborn Cheat Sheet</p>\n",
    "\n",
    "<a id=\"8\"></a>\n",
    "<a href=\"#toc\" class=\"btn btn-primary btn-sm\" role=\"button\" aria-pressed=\"true\" \n",
    "style=\"color:blue; background-color:#dfa8e4\" data-toggle=\"popover\">Content</a>\n",
    "\n",
    "<img src=https://i.ibb.co/CwyVDr7/Python-Seaborn-Cheat-Sheet1024-1.jpg width=\"1000\" height=\"200\">  \n",
    "\n",
    "**🧐 [Top 12 Cheat Sheets for Data Science in Python](https://medium.com/@d.goglia/top-12-cheat-sheet-for-data-science-in-python-4bf685dc3f37)**"
   ]
  },
  {
   "cell_type": "markdown",
   "metadata": {},
   "source": [
    "## <p style=\"background-color:#9d4f8c; font-family:newtimeroman; color:#FFF9ED; font-size:150%; text-align:center; border-radius:10px 10px;\">THE END OF SEABORN SESSION 02</p>\n",
    "\n",
    "<a id=\"9\"></a>\n",
    "<a href=\"#toc\" class=\"btn btn-primary btn-sm\" role=\"button\" aria-pressed=\"true\" \n",
    "style=\"color:blue; background-color:#dfa8e4\" data-toggle=\"popover\">Content</a>"
   ]
  },
  {
   "cell_type": "markdown",
   "metadata": {
    "id": "shw2BlRmRp4C"
   },
   "source": [
    "## <p style=\"background-color:#FDFEFE; font-family:newtimeroman; color:#9d4f8c; font-size:150%; text-align:center; border-radius:10px 10px;\">End of the Session</p>\n",
    "\n",
    "\n",
    "<p style=\"text-align: center;\"><img src=\"https://i.ibb.co/99DQ3TY/DS-Courses.png\" class=\"img-fluid\" \n",
    "alt=\"CLRSWY\"></p>\n",
    "\n",
    "\n",
    "<br><br><br>\n",
    "\n",
    "<p style=\"text-align: center;\"><img src=\"https://i.ibb.co/Rpz9L36/clarusway-logo-black.png\" width=\"450\" height=\"200\" class=\"img-fluid\" alt=\"CLRSWY_LOGO\"></p>\n",
    "\n",
    "<p style=\"background-color:#E51A59; font-family:newtimeroman; color:#FDFEFE; font-size:130%; text-align:center; border-radius:10px 10px;\">WAY TO REINVENT YOURSELF</p>"
   ]
  },
  {
   "cell_type": "markdown",
   "metadata": {
    "deletable": false,
    "editable": false
   },
   "source": [
    "<a href=\"https://clarusway.com/contact-us/\"><img align=\"center\" src=\"https://i.ibb.co/B43qn24/officially-licensed-logo.png\" alt=\"Open in Clarusway LMS\" width=\"110\" height=\"200\" title=\"This notebook is licensed by Clarusway IT training school. Please contact the authorized persons about the conditions under which you can use or share.\"></a>"
   ]
  }
 ],
 "metadata": {
  "colab": {
   "collapsed_sections": [
    "Bfb-93A2nb9w",
    "2uXuuSRVqgZp"
   ],
   "name": "S4_seborn2.ipynb",
   "provenance": [],
   "toc_visible": true
  },
  "kernelspec": {
   "display_name": "de07",
   "language": "python",
   "name": "de07"
  },
  "language_info": {
   "codemirror_mode": {
    "name": "ipython",
    "version": 3
   },
   "file_extension": ".py",
   "mimetype": "text/x-python",
   "name": "python",
   "nbconvert_exporter": "python",
   "pygments_lexer": "ipython3",
   "version": "3.11.3"
  },
  "toc": {
   "base_numbering": 1,
   "nav_menu": {},
   "number_sections": false,
   "sideBar": true,
   "skip_h1_title": false,
   "title_cell": "Table of Contents",
   "title_sidebar": "Contents",
   "toc_cell": false,
   "toc_position": {
    "height": "calc(100% - 180px)",
    "left": "10px",
    "top": "150px",
    "width": "304.475px"
   },
   "toc_section_display": true,
   "toc_window_display": true
  }
 },
 "nbformat": 4,
 "nbformat_minor": 1
}
